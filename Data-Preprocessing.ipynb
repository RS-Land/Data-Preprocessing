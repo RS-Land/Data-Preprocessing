{
 "cells": [
  {
   "cell_type": "markdown",
   "metadata": {},
   "source": [
    "# Analyzing borrowers’ risk of defaulting\n",
    "\n",
    "Your project is to prepare a report for a bank’s loan division. You’ll need to find out if a customer’s marital status and number of children has an impact on whether they will default on a loan. The bank already has some data on customers’ credit worthiness.\n",
    "\n",
    "Your report will be considered when building a **credit scoring** of a potential customer. A ** credit scoring ** is used to evaluate the ability of a potential borrower to repay their loan."
   ]
  },
  {
   "cell_type": "markdown",
   "metadata": {},
   "source": [
    "## Open the data file and have a look at the general information. "
   ]
  },
  {
   "cell_type": "code",
   "execution_count": 44,
   "metadata": {},
   "outputs": [],
   "source": [
    "#imported libraries:\n",
    "import numpy as np\n",
    "import pandas as pd\n",
    "import nltk"
   ]
  },
  {
   "cell_type": "code",
   "execution_count": 45,
   "metadata": {
    "scrolled": true
   },
   "outputs": [
    {
     "name": "stdout",
     "output_type": "stream",
     "text": [
      "<class 'pandas.core.frame.DataFrame'>\n",
      "RangeIndex: 21525 entries, 0 to 21524\n",
      "Data columns (total 12 columns):\n",
      "children            21525 non-null int64\n",
      "days_employed       19351 non-null float64\n",
      "dob_years           21525 non-null int64\n",
      "education           21525 non-null object\n",
      "education_id        21525 non-null int64\n",
      "family_status       21525 non-null object\n",
      "family_status_id    21525 non-null int64\n",
      "gender              21525 non-null object\n",
      "income_type         21525 non-null object\n",
      "debt                21525 non-null int64\n",
      "total_income        19351 non-null float64\n",
      "purpose             21525 non-null object\n",
      "dtypes: float64(2), int64(5), object(5)\n",
      "memory usage: 2.0+ MB\n",
      "None\n"
     ]
    }
   ],
   "source": [
    "credit_info = pd.read_csv('/datasets/credit_scoring_eng.csv')\n",
    "print(credit_info.info())"
   ]
  },
  {
   "cell_type": "code",
   "execution_count": 46,
   "metadata": {},
   "outputs": [
    {
     "name": "stdout",
     "output_type": "stream",
     "text": [
      "[array([42, 36, 33, 32, 53, 27, 43, 50, 35, 41, 40, 65, 54, 56, 26, 48, 24,\n",
      "       21, 57, 67, 28, 63, 62, 47, 34, 68, 25, 31, 30, 20, 49, 37, 45, 61,\n",
      "       64, 44, 52, 46, 23, 38, 39, 51,  0, 59, 29, 60, 55, 58, 71, 22, 73,\n",
      "       66, 69, 19, 72, 70, 74, 75]), array([ 1,  0,  3,  2, -1,  4, 20,  5]), array([\"bachelor's degree\", 'secondary education', 'Secondary Education',\n",
      "       'SECONDARY EDUCATION', \"BACHELOR'S DEGREE\", 'some college',\n",
      "       'primary education', \"Bachelor's Degree\", 'SOME COLLEGE',\n",
      "       'Some College', 'PRIMARY EDUCATION', 'Primary Education',\n",
      "       'Graduate Degree', 'GRADUATE DEGREE', 'graduate degree'],\n",
      "      dtype=object), array(['married', 'civil partnership', 'widow / widower', 'divorced',\n",
      "       'unmarried'], dtype=object), array(['F', 'M', 'XNA'], dtype=object), array(['employee', 'retiree', 'business', 'civil servant', 'unemployed',\n",
      "       'entrepreneur', 'student', 'paternity / maternity leave'],\n",
      "      dtype=object), array(['purchase of the house', 'car purchase', 'supplementary education',\n",
      "       'to have a wedding', 'housing transactions', 'education',\n",
      "       'having a wedding', 'purchase of the house for my family',\n",
      "       'buy real estate', 'buy commercial real estate',\n",
      "       'buy residential real estate', 'construction of own property',\n",
      "       'property', 'building a property', 'buying a second-hand car',\n",
      "       'buying my own car', 'transactions with commercial real estate',\n",
      "       'building a real estate', 'housing',\n",
      "       'transactions with my real estate', 'cars', 'to become educated',\n",
      "       'second-hand car purchase', 'getting an education', 'car',\n",
      "       'wedding ceremony', 'to get a supplementary education',\n",
      "       'purchase of my own house', 'real estate transactions',\n",
      "       'getting higher education', 'to own a car', 'purchase of a car',\n",
      "       'profile education', 'university education',\n",
      "       'buying property for renting out', 'to buy a car',\n",
      "       'housing renovation', 'going to university'], dtype=object)]\n"
     ]
    }
   ],
   "source": [
    "#looking through the content of some columns:\n",
    "inuque_values=[credit_info['dob_years'].unique(),\n",
    "credit_info['children'].unique(),credit_info['education'].unique() ,credit_info['family_status'].unique(),credit_info['gender'].unique(),\n",
    "credit_info['income_type'].unique(),credit_info['purpose'].unique()]\n",
    "print(inuque_values)"
   ]
  },
  {
   "cell_type": "code",
   "execution_count": 47,
   "metadata": {},
   "outputs": [
    {
     "name": "stdout",
     "output_type": "stream",
     "text": [
      "101\n",
      "47\n",
      "76\n"
     ]
    }
   ],
   "source": [
    "print((credit_info['dob_years'] == 0).sum())\n",
    "print((credit_info['children'] == -1).sum())\n",
    "print((credit_info['children'] == 20).sum())"
   ]
  },
  {
   "cell_type": "markdown",
   "metadata": {},
   "source": [
    "### Conclusion"
   ]
  },
  {
   "cell_type": "markdown",
   "metadata": {},
   "source": [
    "After analazing the table we can see following issues to encounter:\n",
    "1. two columns have equal amount (~10%) of the missing values: days_employed  and total_income;\n",
    "2. values for days of the employment are not integer, there are negative and unrealistically big values;\n",
    "3. education column contains duplicates;\n",
    "4. missing values (<1%) in age column: age can't be 0;\n",
    "5. odd data (<1%) in 'children' column: -1 and 20 \n",
    "6. 1 missing value in 'gender' column"
   ]
  },
  {
   "cell_type": "markdown",
   "metadata": {},
   "source": [
    "## Data preprocessing"
   ]
  },
  {
   "cell_type": "markdown",
   "metadata": {},
   "source": [
    "### Processing missing values"
   ]
  },
  {
   "cell_type": "markdown",
   "metadata": {},
   "source": [
    "We are replacing missing data in total income column using the median method. It is more suitable since we have some extreme values in the data. For more accuracy we use median for groups with the same education and employment type.\n",
    "Since the amount of missing data in days employed and total income is the same, we can assume that it might've been the result of some technical issue."
   ]
  },
  {
   "cell_type": "code",
   "execution_count": 48,
   "metadata": {
    "scrolled": true
   },
   "outputs": [
    {
     "name": "stdout",
     "output_type": "stream",
     "text": [
      "    children  days_employed  dob_years            education  education_id  \\\n",
      "0          1   -8437.673028         42    bachelor's degree             0   \n",
      "1          1   -4024.803754         36  secondary education             1   \n",
      "2          0   -5623.422610         33  Secondary Education             1   \n",
      "3          3   -4124.747207         32  secondary education             1   \n",
      "4          0  340266.072047         53  secondary education             1   \n",
      "..       ...            ...        ...                  ...           ...   \n",
      "65         0            NaN         21  secondary education             1   \n",
      "66         0    -916.428829         28  secondary education             1   \n",
      "67         0            NaN         52    bachelor's degree             0   \n",
      "68         2   -2152.475526         46    bachelor's degree             0   \n",
      "69         0    -779.228449         23  secondary education             1   \n",
      "\n",
      "        family_status  family_status_id gender income_type  debt  \\\n",
      "0             married                 0      F    employee     0   \n",
      "1             married                 0      F    employee     0   \n",
      "2             married                 0      M    employee     0   \n",
      "3             married                 0      M    employee     0   \n",
      "4   civil partnership                 1      F     retiree     0   \n",
      "..                ...               ...    ...         ...   ...   \n",
      "65          unmarried                 4      M    business     0   \n",
      "66            married                 0      M    employee     0   \n",
      "67            married                 0      F     retiree     0   \n",
      "68            married                 0      M    business     0   \n",
      "69          unmarried                 4      F    employee     0   \n",
      "\n",
      "    total_income                                   purpose  \n",
      "0      40620.102                     purchase of the house  \n",
      "1      17932.802                              car purchase  \n",
      "2      23341.752                     purchase of the house  \n",
      "3      42820.568                   supplementary education  \n",
      "4      25378.572                         to have a wedding  \n",
      "..           ...                                       ...  \n",
      "65     25544.464  transactions with commercial real estate  \n",
      "66     23234.324                        to become educated  \n",
      "67     22852.007       purchase of the house for my family  \n",
      "68     94731.434  transactions with commercial real estate  \n",
      "69     14599.529                  purchase of my own house  \n",
      "\n",
      "[70 rows x 12 columns]\n",
      "0\n"
     ]
    }
   ],
   "source": [
    "#filling in total income missing values based on average income of people with the same income type and education:\n",
    "credit_info['total_income']=credit_info['total_income'].fillna(credit_info.groupby(['education','income_type'])['total_income'].transform('median'))\n",
    "print(credit_info.head(70))\n",
    "print(credit_info['total_income'].isnull().sum())"
   ]
  },
  {
   "cell_type": "markdown",
   "metadata": {},
   "source": [
    "The amount of days people are employed can influence their income, \n",
    "but in our case it won't help us fill the missing values within the data.\n",
    "\n",
    "The amount of days people are employed can also give us an information about  a customer's reliability,  however this parameter is not an object of interest in our research.\n",
    "\n",
    "We can drop this data for now, but might go back to it later."
   ]
  },
  {
   "cell_type": "code",
   "execution_count": 49,
   "metadata": {
    "scrolled": true
   },
   "outputs": [
    {
     "name": "stdout",
     "output_type": "stream",
     "text": [
      "   children  dob_years            education  education_id      family_status  \\\n",
      "0         1         42    bachelor's degree             0            married   \n",
      "1         1         36  secondary education             1            married   \n",
      "2         0         33  Secondary Education             1            married   \n",
      "3         3         32  secondary education             1            married   \n",
      "4         0         53  secondary education             1  civil partnership   \n",
      "5         0         27    bachelor's degree             0  civil partnership   \n",
      "6         0         43    bachelor's degree             0            married   \n",
      "7         0         50  SECONDARY EDUCATION             1            married   \n",
      "8         2         35    BACHELOR'S DEGREE             0  civil partnership   \n",
      "9         0         41  secondary education             1            married   \n",
      "\n",
      "   family_status_id gender income_type  debt  total_income  \\\n",
      "0                 0      F    employee     0     40620.102   \n",
      "1                 0      F    employee     0     17932.802   \n",
      "2                 0      M    employee     0     23341.752   \n",
      "3                 0      M    employee     0     42820.568   \n",
      "4                 1      F     retiree     0     25378.572   \n",
      "5                 1      M    business     0     40922.170   \n",
      "6                 0      F    business     0     38484.156   \n",
      "7                 0      M    employee     0     21731.829   \n",
      "8                 1      F    employee     0     15337.093   \n",
      "9                 0      M    employee     0     23108.150   \n",
      "\n",
      "                               purpose  \n",
      "0                purchase of the house  \n",
      "1                         car purchase  \n",
      "2                purchase of the house  \n",
      "3              supplementary education  \n",
      "4                    to have a wedding  \n",
      "5                purchase of the house  \n",
      "6                 housing transactions  \n",
      "7                            education  \n",
      "8                     having a wedding  \n",
      "9  purchase of the house for my family  \n"
     ]
    }
   ],
   "source": [
    "#drop days_employed column\n",
    "credit_info=credit_info.drop(['days_employed'], axis=1)\n",
    "print(credit_info.head(10))"
   ]
  },
  {
   "cell_type": "markdown",
   "metadata": {},
   "source": [
    "We will use the same method for filling missing values in age column as for the total income column."
   ]
  },
  {
   "cell_type": "code",
   "execution_count": 50,
   "metadata": {
    "scrolled": true
   },
   "outputs": [
    {
     "name": "stdout",
     "output_type": "stream",
     "text": [
      "101\n",
      "0\n",
      "0\n"
     ]
    }
   ],
   "source": [
    "#filling 0 in years based on education and income type\n",
    "credit_info['dob_years']=credit_info['dob_years'].replace(0, np.nan)\n",
    "print(credit_info['dob_years'].isnull().sum())\n",
    "credit_info['dob_years']=credit_info['dob_years'].fillna(credit_info.groupby(['education','income_type'])['dob_years'].transform('median'))\n",
    "print(credit_info['dob_years'].isnull().sum())\n",
    "print((credit_info['dob_years'] == 0).sum())"
   ]
  },
  {
   "cell_type": "markdown",
   "metadata": {},
   "source": [
    "The percentage of data that would be considered missing in children column is less than 1 %, therefore we can make some assumptions without damaging the analyses. We will turn negative values into positive ones.\n",
    "Values that equal  20  will be considered as a result of a mistype and replaced with 2. \n",
    "(Numbers 2 and 0 are close on a keyboard)."
   ]
  },
  {
   "cell_type": "code",
   "execution_count": 51,
   "metadata": {},
   "outputs": [
    {
     "data": {
      "text/plain": [
       "array([1, 0, 3, 2, 4, 5])"
      ]
     },
     "execution_count": 51,
     "metadata": {},
     "output_type": "execute_result"
    }
   ],
   "source": [
    "#getting rid of unrealistic data in children column\n",
    "credit_info['children'] = abs(credit_info['children'])\n",
    "credit_info['children'] =credit_info['children'].replace(20, 2)\n",
    "credit_info['children'].unique()\n"
   ]
  },
  {
   "cell_type": "markdown",
   "metadata": {},
   "source": [
    "Only one missing value in gender column: we will replace it with random gender. It shouldn't affect the research."
   ]
  },
  {
   "cell_type": "code",
   "execution_count": 52,
   "metadata": {},
   "outputs": [
    {
     "name": "stdout",
     "output_type": "stream",
     "text": [
      "F      14236\n",
      "M       7288\n",
      "XNA        1\n",
      "Name: gender, dtype: int64\n",
      "F    14237\n",
      "M     7288\n",
      "Name: gender, dtype: int64\n"
     ]
    }
   ],
   "source": [
    "print(credit_info['gender'].value_counts())\n",
    "credit_info['gender'] =credit_info['gender'].replace('XNA', 'F')\n",
    "\n",
    "print(credit_info['gender'].value_counts())"
   ]
  },
  {
   "cell_type": "markdown",
   "metadata": {},
   "source": [
    "### Conclusion"
   ]
  },
  {
   "cell_type": "markdown",
   "metadata": {},
   "source": [
    "All the missing values were replaced or droped.\n"
   ]
  },
  {
   "cell_type": "markdown",
   "metadata": {},
   "source": [
    "### Data type replacement"
   ]
  },
  {
   "cell_type": "code",
   "execution_count": 53,
   "metadata": {},
   "outputs": [
    {
     "name": "stdout",
     "output_type": "stream",
     "text": [
      "<class 'pandas.core.frame.DataFrame'>\n",
      "RangeIndex: 21525 entries, 0 to 21524\n",
      "Data columns (total 11 columns):\n",
      "children            21525 non-null int64\n",
      "dob_years           21525 non-null int64\n",
      "education           21525 non-null object\n",
      "education_id        21525 non-null int64\n",
      "family_status       21525 non-null object\n",
      "family_status_id    21525 non-null int64\n",
      "gender              21525 non-null object\n",
      "income_type         21525 non-null object\n",
      "debt                21525 non-null int64\n",
      "total_income        21525 non-null int64\n",
      "purpose             21525 non-null object\n",
      "dtypes: int64(6), object(5)\n",
      "memory usage: 1.8+ MB\n",
      "None\n"
     ]
    }
   ],
   "source": [
    "credit_info['total_income']=credit_info['total_income'].astype(int)\n",
    "credit_info['dob_years']=credit_info['dob_years'].astype(int)\n",
    "credit_info['education']=credit_info['education'].astype(str)\n",
    "credit_info['purpose']=credit_info['purpose'].astype(str)\n",
    "print(credit_info.info())"
   ]
  },
  {
   "cell_type": "markdown",
   "metadata": {},
   "source": [
    "### Conclusion"
   ]
  },
  {
   "cell_type": "markdown",
   "metadata": {},
   "source": [
    "All the types of the numeric values were changed to integer type using astype() method."
   ]
  },
  {
   "cell_type": "markdown",
   "metadata": {},
   "source": [
    "### Processing duplicates"
   ]
  },
  {
   "cell_type": "code",
   "execution_count": 54,
   "metadata": {},
   "outputs": [
    {
     "name": "stdout",
     "output_type": "stream",
     "text": [
      "secondary education    15233\n",
      "bachelor's degree       5260\n",
      "some college             744\n",
      "primary education        282\n",
      "graduate degree            6\n",
      "Name: education, dtype: int64\n",
      "21525\n"
     ]
    }
   ],
   "source": [
    "#education\n",
    "credit_info['education']=credit_info['education'].str.lower()\n",
    "print(credit_info['education'].value_counts())\n",
    "print(credit_info['education'].value_counts().sum())\n"
   ]
  },
  {
   "cell_type": "code",
   "execution_count": 55,
   "metadata": {},
   "outputs": [
    {
     "name": "stdout",
     "output_type": "stream",
     "text": [
      "54\n",
      "       children  dob_years            education  education_id  \\\n",
      "2849          0         41  secondary education             1   \n",
      "4182          1         34    bachelor's degree             0   \n",
      "4851          0         60  secondary education             1   \n",
      "5557          0         58  secondary education             1   \n",
      "7808          0         57  secondary education             1   \n",
      "8583          0         58    bachelor's degree             0   \n",
      "9238          2         34  secondary education             1   \n",
      "9528          0         66  secondary education             1   \n",
      "9627          0         56  secondary education             1   \n",
      "10462         0         62  secondary education             1   \n",
      "10697         0         40  secondary education             1   \n",
      "10864         0         62  secondary education             1   \n",
      "10994         0         62  secondary education             1   \n",
      "11791         0         47  secondary education             1   \n",
      "12373         0         58  secondary education             1   \n",
      "12375         1         37  secondary education             1   \n",
      "12736         0         59  secondary education             1   \n",
      "13025         1         44  secondary education             1   \n",
      "13639         0         64  secondary education             1   \n",
      "13773         0         35  secondary education             1   \n",
      "13878         1         31  secondary education             1   \n",
      "13942         0         44  secondary education             1   \n",
      "14432         2         36    bachelor's degree             0   \n",
      "14832         0         50  secondary education             1   \n",
      "15091         0         58  secondary education             1   \n",
      "15188         0         60  secondary education             1   \n",
      "15273         0         57  secondary education             1   \n",
      "16176         0         47  secondary education             1   \n",
      "16378         0         46  secondary education             1   \n",
      "16902         2         39  secondary education             1   \n",
      "16904         1         32    bachelor's degree             0   \n",
      "17379         0         54    bachelor's degree             0   \n",
      "17755         1         43  secondary education             1   \n",
      "17774         1         40  secondary education             1   \n",
      "18328         0         29    bachelor's degree             0   \n",
      "18349         1         30    bachelor's degree             0   \n",
      "18428         0         64  secondary education             1   \n",
      "18521         0         56  secondary education             1   \n",
      "18563         0         54  secondary education             1   \n",
      "18755         0         58  secondary education             1   \n",
      "19041         0         56  secondary education             1   \n",
      "19184         0         46  secondary education             1   \n",
      "19321         0         23  secondary education             1   \n",
      "19387         0         38    bachelor's degree             0   \n",
      "19688         0         61  secondary education             1   \n",
      "19832         0         48  secondary education             1   \n",
      "19946         0         57  secondary education             1   \n",
      "20116         0         57  secondary education             1   \n",
      "20165         0         42  secondary education             1   \n",
      "20702         0         64  secondary education             1   \n",
      "21032         0         60  secondary education             1   \n",
      "21132         0         47  secondary education             1   \n",
      "21281         1         30    bachelor's degree             0   \n",
      "21415         0         54  secondary education             1   \n",
      "\n",
      "           family_status  family_status_id gender    income_type  debt  \\\n",
      "2849             married                 0      F       employee     0   \n",
      "4182   civil partnership                 1      F       employee     0   \n",
      "4851   civil partnership                 1      F        retiree     0   \n",
      "5557   civil partnership                 1      F        retiree     0   \n",
      "7808   civil partnership                 1      F        retiree     0   \n",
      "8583           unmarried                 4      F        retiree     0   \n",
      "9238             married                 0      F       employee     0   \n",
      "9528     widow / widower                 2      F        retiree     0   \n",
      "9627             married                 0      F        retiree     0   \n",
      "10462            married                 0      F        retiree     0   \n",
      "10697  civil partnership                 1      F       business     0   \n",
      "10864            married                 0      F        retiree     0   \n",
      "10994            married                 0      F        retiree     0   \n",
      "11791            married                 0      F       employee     0   \n",
      "12373            married                 0      M       employee     0   \n",
      "12375            married                 0      F       employee     0   \n",
      "12736            married                 0      F        retiree     0   \n",
      "13025            married                 0      F       employee     0   \n",
      "13639            married                 0      F        retiree     0   \n",
      "13773  civil partnership                 1      F       employee     0   \n",
      "13878            married                 0      F       business     0   \n",
      "13942            married                 0      F       employee     0   \n",
      "14432            married                 0      F  civil servant     0   \n",
      "14832          unmarried                 4      F       employee     0   \n",
      "15091  civil partnership                 1      M       employee     0   \n",
      "15188            married                 0      M       employee     0   \n",
      "15273  civil partnership                 1      F        retiree     0   \n",
      "16176            married                 0      F       employee     0   \n",
      "16378            married                 0      F       employee     0   \n",
      "16902  civil partnership                 1      F       employee     0   \n",
      "16904            married                 0      F       employee     0   \n",
      "17379            married                 0      M       business     0   \n",
      "17755            married                 0      M       employee     0   \n",
      "17774  civil partnership                 1      F       business     0   \n",
      "18328            married                 0      M       employee     0   \n",
      "18349            married                 0      F  civil servant     0   \n",
      "18428            married                 0      F        retiree     0   \n",
      "18521  civil partnership                 1      F       employee     0   \n",
      "18563            married                 0      F       employee     0   \n",
      "18755            married                 0      F        retiree     0   \n",
      "19041  civil partnership                 1      F       employee     0   \n",
      "19184            married                 0      F       employee     0   \n",
      "19321          unmarried                 4      F       employee     0   \n",
      "19387  civil partnership                 1      F       business     0   \n",
      "19688            married                 0      F        retiree     0   \n",
      "19832            married                 0      F       employee     0   \n",
      "19946            married                 0      F       employee     0   \n",
      "20116  civil partnership                 1      M        retiree     0   \n",
      "20165            married                 0      F       employee     0   \n",
      "20702            married                 0      F        retiree     0   \n",
      "21032            married                 0      F        retiree     0   \n",
      "21132            married                 0      F       employee     0   \n",
      "21281            married                 0      F       employee     0   \n",
      "21415            married                 0      F        retiree     0   \n",
      "\n",
      "       total_income                                   purpose  \n",
      "2849          21890       purchase of the house for my family  \n",
      "4182          23149                          wedding ceremony  \n",
      "4851          18317                          wedding ceremony  \n",
      "5557          18317                         to have a wedding  \n",
      "7808          18317                          having a wedding  \n",
      "8583          22852                   supplementary education  \n",
      "9238          21890           buying property for renting out  \n",
      "9528          18317          transactions with my real estate  \n",
      "9627          18317          transactions with my real estate  \n",
      "10462         18317                buy commercial real estate  \n",
      "10697         25544                         to have a wedding  \n",
      "10864         18317                        housing renovation  \n",
      "10994         18317                        housing renovation  \n",
      "11791         21890                       building a property  \n",
      "12373         21890                           buy real estate  \n",
      "12375         21890                           buy real estate  \n",
      "12736         18317                        to become educated  \n",
      "13025         21890                  second-hand car purchase  \n",
      "13639         18317                                       car  \n",
      "13773         21890                         to have a wedding  \n",
      "13878         25544                     purchase of the house  \n",
      "13942         21890                              car purchase  \n",
      "14432         27601                      getting an education  \n",
      "14832         21890                                  property  \n",
      "15091         21890                          having a wedding  \n",
      "15188         21890                           buy real estate  \n",
      "15273         18317                          wedding ceremony  \n",
      "16176         21890                        housing renovation  \n",
      "16378         21890                      university education  \n",
      "16902         21890                         to have a wedding  \n",
      "16904         26586                  buying a second-hand car  \n",
      "17379         32305  transactions with commercial real estate  \n",
      "17755         21890                        to become educated  \n",
      "17774         25544                    building a real estate  \n",
      "18328         26586               buy residential real estate  \n",
      "18349         27601       purchase of the house for my family  \n",
      "18428         18317                                   housing  \n",
      "18521         21890                         to have a wedding  \n",
      "18563         21890          transactions with my real estate  \n",
      "18755         18317                        to become educated  \n",
      "19041         21890                          having a wedding  \n",
      "19184         21890                              to own a car  \n",
      "19321         21890                  second-hand car purchase  \n",
      "19387         32305                          having a wedding  \n",
      "19688         18317                  real estate transactions  \n",
      "19832         21890                        housing renovation  \n",
      "19946         21890                  second-hand car purchase  \n",
      "20116         18317                          wedding ceremony  \n",
      "20165         21890       purchase of the house for my family  \n",
      "20702         18317                   supplementary education  \n",
      "21032         18317                        to become educated  \n",
      "21132         21890                        housing renovation  \n",
      "21281         26586                buy commercial real estate  \n",
      "21415         18317                      housing transactions  \n"
     ]
    }
   ],
   "source": [
    "print(credit_info.duplicated().sum())\n",
    "print(credit_info.loc[credit_info.duplicated()])"
   ]
  },
  {
   "cell_type": "code",
   "execution_count": 56,
   "metadata": {},
   "outputs": [
    {
     "name": "stdout",
     "output_type": "stream",
     "text": [
      "<class 'pandas.core.frame.DataFrame'>\n",
      "RangeIndex: 21471 entries, 0 to 21470\n",
      "Data columns (total 11 columns):\n",
      "children            21471 non-null int64\n",
      "dob_years           21471 non-null int64\n",
      "education           21471 non-null object\n",
      "education_id        21471 non-null int64\n",
      "family_status       21471 non-null object\n",
      "family_status_id    21471 non-null int64\n",
      "gender              21471 non-null object\n",
      "income_type         21471 non-null object\n",
      "debt                21471 non-null int64\n",
      "total_income        21471 non-null int64\n",
      "purpose             21471 non-null object\n",
      "dtypes: int64(6), object(5)\n",
      "memory usage: 1.8+ MB\n",
      "None\n"
     ]
    }
   ],
   "source": [
    "credit_info = credit_info.drop_duplicates().reset_index(drop = True)\n",
    "print(credit_info.info())"
   ]
  },
  {
   "cell_type": "markdown",
   "metadata": {},
   "source": [
    "### Conclusion"
   ]
  },
  {
   "cell_type": "markdown",
   "metadata": {},
   "source": [
    "1. Duplicates in education column were caused by using different cases during typing. Issue is solved by lower() function\n",
    "2. Duplicates within the rows might be an issue of some technical kind or real data from people with the same background/life situation. 54 rows - is less than 1% of data and it won't take too much memory to leave it as it is."
   ]
  },
  {
   "cell_type": "markdown",
   "metadata": {},
   "source": [
    "### Categorizing Data"
   ]
  },
  {
   "cell_type": "markdown",
   "metadata": {},
   "source": [
    "# Creating categories for the purpose data:"
   ]
  },
  {
   "cell_type": "markdown",
   "metadata": {},
   "source": [
    "With we look closer into the purposes we can define four big categories: wedding, education, car, some real estate transactions. \n",
    "Within the last category we can choose some subcategories like commercial and personal purposes but it's not always clear for us from the description. \n",
    "Therefore we will stick to the bigger four categories."
   ]
  },
  {
   "cell_type": "code",
   "execution_count": 57,
   "metadata": {},
   "outputs": [
    {
     "name": "stdout",
     "output_type": "stream",
     "text": [
      "wedding ceremony                            793\n",
      "having a wedding                            773\n",
      "to have a wedding                           769\n",
      "real estate transactions                    675\n",
      "buy commercial real estate                  662\n",
      "housing transactions                        652\n",
      "buying property for renting out             652\n",
      "transactions with commercial real estate    650\n",
      "purchase of the house                       646\n",
      "housing                                     646\n",
      "purchase of the house for my family         638\n",
      "construction of own property                635\n",
      "property                                    633\n",
      "transactions with my real estate            627\n",
      "building a real estate                      625\n",
      "buy real estate                             621\n",
      "purchase of my own house                    620\n",
      "building a property                         619\n",
      "housing renovation                          607\n",
      "buy residential real estate                 606\n",
      "buying my own car                           505\n",
      "going to university                         496\n",
      "car                                         494\n",
      "second-hand car purchase                    486\n",
      "to own a car                                479\n",
      "cars                                        478\n",
      "buying a second-hand car                    478\n",
      "to buy a car                                472\n",
      "car purchase                                461\n",
      "supplementary education                     460\n",
      "purchase of a car                           455\n",
      "university education                        452\n",
      "to get a supplementary education            447\n",
      "education                                   447\n",
      "getting an education                        442\n",
      "profile education                           436\n",
      "getting higher education                    426\n",
      "to become educated                          408\n",
      "Name: purpose, dtype: int64\n"
     ]
    }
   ],
   "source": [
    "print(credit_info['purpose'].value_counts())\n"
   ]
  },
  {
   "cell_type": "code",
   "execution_count": 58,
   "metadata": {},
   "outputs": [
    {
     "name": "stdout",
     "output_type": "stream",
     "text": [
      "education\n"
     ]
    }
   ],
   "source": [
    "from nltk.stem import SnowballStemmer\n",
    "\n",
    "english_stemmer = SnowballStemmer('english')\n",
    "\n",
    "from nltk.stem import WordNetLemmatizer\n",
    "\n",
    "from collections import Counter\n",
    "lemmatizer = WordNetLemmatizer()\n",
    " \n",
    "print(lemmatizer.lemmatize(\"education\"))"
   ]
  },
  {
   "cell_type": "code",
   "execution_count": 59,
   "metadata": {},
   "outputs": [
    {
     "name": "stdout",
     "output_type": "stream",
     "text": [
      "    children  dob_years            education  education_id      family_status  \\\n",
      "0          1         42    bachelor's degree             0            married   \n",
      "1          1         36  secondary education             1            married   \n",
      "2          0         33  secondary education             1            married   \n",
      "3          3         32  secondary education             1            married   \n",
      "4          0         53  secondary education             1  civil partnership   \n",
      "5          0         27    bachelor's degree             0  civil partnership   \n",
      "6          0         43    bachelor's degree             0            married   \n",
      "7          0         50  secondary education             1            married   \n",
      "8          2         35    bachelor's degree             0  civil partnership   \n",
      "9          0         41  secondary education             1            married   \n",
      "10         2         36    bachelor's degree             0            married   \n",
      "11         0         40  secondary education             1            married   \n",
      "12         0         65  secondary education             1  civil partnership   \n",
      "13         0         54         some college             2            married   \n",
      "14         0         56    bachelor's degree             0  civil partnership   \n",
      "15         1         26  secondary education             1            married   \n",
      "16         0         35  secondary education             1            married   \n",
      "17         0         33    bachelor's degree             0  civil partnership   \n",
      "18         0         53  secondary education             1    widow / widower   \n",
      "19         0         48  secondary education             1           divorced   \n",
      "20         1         36  secondary education             1            married   \n",
      "21         1         33  secondary education             1  civil partnership   \n",
      "22         1         24  secondary education             1  civil partnership   \n",
      "23         0         21    bachelor's degree             0  civil partnership   \n",
      "24         1         57  secondary education             1          unmarried   \n",
      "25         0         67  secondary education             1            married   \n",
      "26         0         41  secondary education             1            married   \n",
      "27         0         28    bachelor's degree             0            married   \n",
      "28         1         26    bachelor's degree             0            married   \n",
      "29         0         63  secondary education             1          unmarried   \n",
      "\n",
      "    family_status_id gender    income_type  debt  total_income  \\\n",
      "0                  0      F       employee     0         40620   \n",
      "1                  0      F       employee     0         17932   \n",
      "2                  0      M       employee     0         23341   \n",
      "3                  0      M       employee     0         42820   \n",
      "4                  1      F        retiree     0         25378   \n",
      "5                  1      M       business     0         40922   \n",
      "6                  0      F       business     0         38484   \n",
      "7                  0      M       employee     0         21731   \n",
      "8                  1      F       employee     0         15337   \n",
      "9                  0      M       employee     0         23108   \n",
      "10                 0      M       business     0         18230   \n",
      "11                 0      F       employee     0         12331   \n",
      "12                 1      M        retiree     0         18317   \n",
      "13                 0      F       employee     0         20873   \n",
      "14                 1      F       business     1         26420   \n",
      "15                 0      F       employee     0         18691   \n",
      "16                 0      F       employee     0         46272   \n",
      "17                 1      M       employee     0         14465   \n",
      "18                 2      F        retiree     0          9091   \n",
      "19                 3      F       employee     0         38852   \n",
      "20                 0      M       employee     0         33528   \n",
      "21                 1      F       employee     0         21089   \n",
      "22                 1      F       employee     0         23948   \n",
      "23                 1      M       employee     0         20522   \n",
      "24                 4      F        retiree     0         46487   \n",
      "25                 0      M        retiree     0          8818   \n",
      "26                 0      M  civil servant     0         21864   \n",
      "27                 0      M       employee     0         49415   \n",
      "28                 0      F       employee     0         30058   \n",
      "29                 4      F        retiree     0         18317   \n",
      "\n",
      "                                     purpose purpose_type  \n",
      "0                      purchase of the house      housing  \n",
      "1                               car purchase          car  \n",
      "2                      purchase of the house      housing  \n",
      "3                    supplementary education    education  \n",
      "4                          to have a wedding      wedding  \n",
      "5                      purchase of the house      housing  \n",
      "6                       housing transactions      housing  \n",
      "7                                  education    education  \n",
      "8                           having a wedding      wedding  \n",
      "9        purchase of the house for my family      housing  \n",
      "10                           buy real estate      housing  \n",
      "11                buy commercial real estate      housing  \n",
      "12                         to have a wedding      wedding  \n",
      "13                              car purchase          car  \n",
      "14               buy residential real estate      housing  \n",
      "15              construction of own property      housing  \n",
      "16                                  property      housing  \n",
      "17                       building a property      housing  \n",
      "18                  buying a second-hand car          car  \n",
      "19                         buying my own car          car  \n",
      "20                                  property      housing  \n",
      "21                              car purchase          car  \n",
      "22                  buying a second-hand car          car  \n",
      "23                         to have a wedding      wedding  \n",
      "24  transactions with commercial real estate      housing  \n",
      "25                           buy real estate      housing  \n",
      "26                                 education    education  \n",
      "27              construction of own property      housing  \n",
      "28              construction of own property      housing  \n",
      "29                    building a real estate      housing  \n"
     ]
    }
   ],
   "source": [
    "from nltk.stem import SnowballStemmer\n",
    "\n",
    "english_stemmer = SnowballStemmer('english')\n",
    "\n",
    "from nltk.stem import WordNetLemmatizer\n",
    "\n",
    "from collections import Counter\n",
    "lemmatizer = WordNetLemmatizer()\n",
    "\n",
    "purpose_type = []\n",
    "for value in credit_info[\"purpose\"]:\n",
    "    \n",
    "    word_list = nltk.word_tokenize(value)\n",
    "    lemmas = [lemmatizer.lemmatize(w) for w in word_list]\n",
    "    \n",
    "    if 'wedding' in lemmas:\n",
    "        \n",
    "        purpose_type.append(\"wedding\")\n",
    "        \n",
    "    elif 'car' in lemmas:\n",
    "        purpose_type.append(\"car\")\n",
    "        \n",
    "    elif 'educated' in lemmas or 'education'in lemmas or 'university' in lemmas:\n",
    "        purpose_type.append(\"education\")\n",
    "        \n",
    "    else:\n",
    "        purpose_type.append(\"housing\")\n",
    "       \n",
    "    \n",
    "    \n",
    "credit_info[\"purpose_type\"] = purpose_type   \n",
    "print(credit_info.head(30))\n",
    "    \n"
   ]
  },
  {
   "cell_type": "code",
   "execution_count": 60,
   "metadata": {},
   "outputs": [
    {
     "name": "stdout",
     "output_type": "stream",
     "text": [
      "housing      10814\n",
      "car           4308\n",
      "education     4014\n",
      "wedding       2335\n",
      "Name: purpose_type, dtype: int64\n"
     ]
    }
   ],
   "source": [
    "print(credit_info['purpose_type'].value_counts())"
   ]
  },
  {
   "cell_type": "code",
   "execution_count": 61,
   "metadata": {
    "scrolled": true
   },
   "outputs": [
    {
     "name": "stdout",
     "output_type": "stream",
     "text": [
      "0    10814\n",
      "1     4308\n",
      "2     4014\n",
      "3     2335\n",
      "Name: purpose_id, dtype: int64\n"
     ]
    }
   ],
   "source": [
    "def purpose_id(purpose):\n",
    "       \n",
    "    if purpose == 'housing':\n",
    "        return 0    \n",
    "    if purpose =='car':\n",
    "        return 1    \n",
    "    if purpose =='education':\n",
    "        return 2\n",
    "    \n",
    "    return 3\n",
    "\n",
    "credit_info['purpose_id'] = credit_info['purpose_type'].apply(purpose_id)\n",
    "\n",
    "print(credit_info['purpose_id'].value_counts())"
   ]
  },
  {
   "cell_type": "markdown",
   "metadata": {},
   "source": [
    "# Creating categories for income:\n"
   ]
  },
  {
   "cell_type": "code",
   "execution_count": 62,
   "metadata": {},
   "outputs": [
    {
     "name": "stdout",
     "output_type": "stream",
     "text": [
      "count     21471.000000\n",
      "mean      26471.348703\n",
      "std       15723.365182\n",
      "min        3306.000000\n",
      "25%       17202.500000\n",
      "50%       22912.000000\n",
      "75%       31720.000000\n",
      "max      362496.000000\n",
      "Name: total_income, dtype: float64\n"
     ]
    }
   ],
   "source": [
    "print(credit_info['total_income'].describe())"
   ]
  },
  {
   "cell_type": "code",
   "execution_count": 63,
   "metadata": {},
   "outputs": [
    {
     "name": "stdout",
     "output_type": "stream",
     "text": [
      "(21265.5, 30245.25]      6831\n",
      "(12285.75, 21265.5]      6656\n",
      "(30245.25, 39225.0]      3047\n",
      "(2946.81, 12285.75]      1981\n",
      "(39225.0, 48204.75]      1493\n",
      "(48204.75, 57184.5]       658\n",
      "(57184.5, 66164.25]       343\n",
      "(66164.25, 75144.0]       175\n",
      "(75144.0, 84123.75]       109\n",
      "(84123.75, 93103.5]        55\n",
      "(102083.25, 111063.0]      31\n",
      "(93103.5, 102083.25]       29\n",
      "(111063.0, 120042.75]      15\n",
      "(129022.5, 138002.25]      10\n",
      "(173921.25, 182901.0]       6\n",
      "(120042.75, 129022.5]       5\n",
      "(138002.25, 146982.0]       4\n",
      "(155961.75, 164941.5]       4\n",
      "(272698.5, 281678.25]       3\n",
      "(146982.0, 155961.75]       3\n",
      "(200860.5, 209840.25]       2\n",
      "(191880.75, 200860.5]       2\n",
      "(164941.5, 173921.25]       2\n",
      "(254739.0, 263718.75]       1\n",
      "(245759.25, 254739.0]       1\n",
      "(209840.25, 218820.0]       1\n",
      "(353516.25, 362496.0]       1\n",
      "(227799.75, 236779.5]       1\n",
      "(344536.5, 353516.25]       1\n",
      "(182901.0, 191880.75]       1\n",
      "(308617.5, 317597.25]       0\n",
      "(335556.75, 344536.5]       0\n",
      "(326577.0, 335556.75]       0\n",
      "(317597.25, 326577.0]       0\n",
      "(218820.0, 227799.75]       0\n",
      "(299637.75, 308617.5]       0\n",
      "(290658.0, 299637.75]       0\n",
      "(281678.25, 290658.0]       0\n",
      "(263718.75, 272698.5]       0\n",
      "(236779.5, 245759.25]       0\n",
      "Name: total_income, dtype: int64\n"
     ]
    }
   ],
   "source": [
    "print(pd.cut(credit_info['total_income'], 40).value_counts())"
   ]
  },
  {
   "cell_type": "markdown",
   "metadata": {},
   "source": [
    "As we can see income data has some extreme values, so cutting it equally in 4 categories wouldn't be a good option. Instead we can define the range of the average income level (income that has most of people within our data). Based on average income level we can also define below average, and more than average income levels:\n",
    "1. less than 15000\n",
    "2. 15000 - 25000\n",
    "3. 25000 - 60000\n",
    "4. more than 60000"
   ]
  },
  {
   "cell_type": "code",
   "execution_count": 64,
   "metadata": {},
   "outputs": [
    {
     "name": "stdout",
     "output_type": "stream",
     "text": [
      "   children  dob_years            education  education_id      family_status  \\\n",
      "0         1         42    bachelor's degree             0            married   \n",
      "1         1         36  secondary education             1            married   \n",
      "2         0         33  secondary education             1            married   \n",
      "3         3         32  secondary education             1            married   \n",
      "4         0         53  secondary education             1  civil partnership   \n",
      "5         0         27    bachelor's degree             0  civil partnership   \n",
      "6         0         43    bachelor's degree             0            married   \n",
      "7         0         50  secondary education             1            married   \n",
      "8         2         35    bachelor's degree             0  civil partnership   \n",
      "9         0         41  secondary education             1            married   \n",
      "\n",
      "   family_status_id gender            income_type  debt  total_income  \\\n",
      "0                 0      F  higher_average_income     0         40620   \n",
      "1                 0      F   lower_average_income     0         17932   \n",
      "2                 0      M   lower_average_income     0         23341   \n",
      "3                 0      M  higher_average_income     0         42820   \n",
      "4                 1      F  higher_average_income     0         25378   \n",
      "5                 1      M  higher_average_income     0         40922   \n",
      "6                 0      F  higher_average_income     0         38484   \n",
      "7                 0      M   lower_average_income     0         21731   \n",
      "8                 1      F   lower_average_income     0         15337   \n",
      "9                 0      M   lower_average_income     0         23108   \n",
      "\n",
      "                               purpose purpose_type  purpose_id  \n",
      "0                purchase of the house      housing           0  \n",
      "1                         car purchase          car           1  \n",
      "2                purchase of the house      housing           0  \n",
      "3              supplementary education    education           2  \n",
      "4                    to have a wedding      wedding           3  \n",
      "5                purchase of the house      housing           0  \n",
      "6                 housing transactions      housing           0  \n",
      "7                            education    education           2  \n",
      "8                     having a wedding      wedding           3  \n",
      "9  purchase of the house for my family      housing           0  \n",
      "higher_average_income    8716\n",
      "lower_average_income     8335\n",
      "low_income               3746\n",
      "upper-class_income        674\n",
      "Name: income_type, dtype: int64\n"
     ]
    }
   ],
   "source": [
    "def income_category(income):\n",
    "       \n",
    "    if income <= 15000:\n",
    "        return 'low_income'\n",
    "    \n",
    "    if income <= 25000:\n",
    "        return 'lower_average_income'\n",
    "    \n",
    "    if income <= 60000:\n",
    "        return 'higher_average_income'\n",
    "    \n",
    "   # if income <= 100000:\n",
    "      #  return 'higher_income'\n",
    "    \n",
    "    return 'upper-class_income' \n",
    "\n",
    "credit_info['income_type'] = credit_info['total_income'].apply(income_category)\n",
    "print(credit_info.head(10))\n",
    "print(credit_info['income_type'].value_counts())"
   ]
  },
  {
   "cell_type": "code",
   "execution_count": 65,
   "metadata": {},
   "outputs": [
    {
     "name": "stdout",
     "output_type": "stream",
     "text": [
      "   children  dob_years            education  education_id      family_status  \\\n",
      "0         1         42    bachelor's degree             0            married   \n",
      "1         1         36  secondary education             1            married   \n",
      "2         0         33  secondary education             1            married   \n",
      "3         3         32  secondary education             1            married   \n",
      "4         0         53  secondary education             1  civil partnership   \n",
      "5         0         27    bachelor's degree             0  civil partnership   \n",
      "6         0         43    bachelor's degree             0            married   \n",
      "7         0         50  secondary education             1            married   \n",
      "8         2         35    bachelor's degree             0  civil partnership   \n",
      "9         0         41  secondary education             1            married   \n",
      "\n",
      "   family_status_id gender            income_type  debt  total_income  \\\n",
      "0                 0      F  higher_average_income     0         40620   \n",
      "1                 0      F   lower_average_income     0         17932   \n",
      "2                 0      M   lower_average_income     0         23341   \n",
      "3                 0      M  higher_average_income     0         42820   \n",
      "4                 1      F  higher_average_income     0         25378   \n",
      "5                 1      M  higher_average_income     0         40922   \n",
      "6                 0      F  higher_average_income     0         38484   \n",
      "7                 0      M   lower_average_income     0         21731   \n",
      "8                 1      F   lower_average_income     0         15337   \n",
      "9                 0      M   lower_average_income     0         23108   \n",
      "\n",
      "                               purpose purpose_type  purpose_id  income_id  \n",
      "0                purchase of the house      housing           0          2  \n",
      "1                         car purchase          car           1          1  \n",
      "2                purchase of the house      housing           0          1  \n",
      "3              supplementary education    education           2          2  \n",
      "4                    to have a wedding      wedding           3          2  \n",
      "5                purchase of the house      housing           0          2  \n",
      "6                 housing transactions      housing           0          2  \n",
      "7                            education    education           2          1  \n",
      "8                     having a wedding      wedding           3          1  \n",
      "9  purchase of the house for my family      housing           0          1  \n",
      "2    8716\n",
      "1    8335\n",
      "0    3746\n",
      "3     674\n",
      "Name: income_id, dtype: int64\n"
     ]
    }
   ],
   "source": [
    "def income_id(income):\n",
    "       \n",
    "    if income == 'low_income':\n",
    "        return 0    \n",
    "    if income =='lower_average_income':\n",
    "        return 1    \n",
    "    if income =='higher_average_income':\n",
    "        return 2 \n",
    "   # if income =='higher_income':\n",
    "       # return 3\n",
    "    \n",
    "    return 3\n",
    "\n",
    "credit_info['income_id'] = credit_info['income_type'].apply(income_id)\n",
    "print(credit_info.head(10))\n",
    "print(credit_info['income_id'].value_counts())"
   ]
  },
  {
   "cell_type": "markdown",
   "metadata": {},
   "source": [
    "# Children"
   ]
  },
  {
   "cell_type": "code",
   "execution_count": 66,
   "metadata": {},
   "outputs": [
    {
     "name": "stdout",
     "output_type": "stream",
     "text": [
      "0    14107\n",
      "1     4856\n",
      "2     2128\n",
      "3      330\n",
      "4       41\n",
      "5        9\n",
      "Name: children, dtype: int64\n"
     ]
    }
   ],
   "source": [
    "print(credit_info['children'].value_counts())"
   ]
  },
  {
   "cell_type": "code",
   "execution_count": 67,
   "metadata": {
    "scrolled": true
   },
   "outputs": [
    {
     "name": "stdout",
     "output_type": "stream",
     "text": [
      "No children       14107\n",
      "One child          4856\n",
      "Two children       2128\n",
      "Three children      330\n",
      "Four children        41\n",
      "Five Children         9\n",
      "Name: children_status, dtype: int64\n"
     ]
    }
   ],
   "source": [
    "def children_count(children):\n",
    "       \n",
    "    if children == 0:\n",
    "        return 'No children'    \n",
    "    if children ==1:\n",
    "        return 'One child' \n",
    "    \n",
    "    if children ==2:\n",
    "        return 'Two children'\n",
    "    \n",
    "    if children ==3:\n",
    "        return 'Three children'\n",
    "    \n",
    "    if children ==4:\n",
    "        return 'Four children'\n",
    "    \n",
    "    return 'Five Children'\n",
    "\n",
    "credit_info['children_status'] = credit_info['children'].apply(children_count)\n",
    "\n",
    "print(credit_info['children_status'].value_counts())"
   ]
  },
  {
   "cell_type": "markdown",
   "metadata": {},
   "source": [
    "### Conclusion"
   ]
  },
  {
   "cell_type": "markdown",
   "metadata": {},
   "source": [
    "The categories that are needed within our research are the number of children, marital status, income level, and purpose.\n",
    "The categories for the children and the marital status were used as they are.\n",
    "The income was split into four categories with the main category being an average income.\n",
    "The purpose was split into four types: wedding, car purchase, education, and housing. "
   ]
  },
  {
   "cell_type": "markdown",
   "metadata": {},
   "source": [
    "## Answer these questions"
   ]
  },
  {
   "cell_type": "markdown",
   "metadata": {},
   "source": [
    "- Is there a relation between having kids and repaying a loan on time?"
   ]
  },
  {
   "cell_type": "code",
   "execution_count": 68,
   "metadata": {},
   "outputs": [
    {
     "name": "stdout",
     "output_type": "stream",
     "text": [
      "debt children        0       1    All     default_rate\n",
      "0           0  13044.0  1063.0  14107          7.53527\n",
      "1           1   4411.0   445.0   4856          9.16392\n",
      "2           2   1926.0   202.0   2128          9.49248\n",
      "3           3    303.0    27.0    330          8.18182\n",
      "4           4     37.0     4.0     41           9.7561\n",
      "5           5      9.0     0.0      9  No default debt\n",
      "6         All  19730.0  1741.0  21471          8.10861\n"
     ]
    }
   ],
   "source": [
    "kids = pd.pivot_table(credit_info,index = 'children', columns='debt', \n",
    "                               values='children_status',aggfunc='count',margins=True).reset_index()\n",
    "\n",
    "kids['default_rate']=(kids[1]/kids['All'])*100\n",
    "kids[1] = kids[1].fillna(0)\n",
    "kids['default_rate'] = kids['default_rate'].fillna('No default debt')\n",
    "print(kids)"
   ]
  },
  {
   "cell_type": "markdown",
   "metadata": {},
   "source": [
    "### Conclusion"
   ]
  },
  {
   "cell_type": "markdown",
   "metadata": {},
   "source": [
    "Based on the data we were provided with we can conclude that people without kids are more reliable. \n",
    "People with one or two children have approximately the same reliability level, and it is lower than the one of people without kids.\n",
    "The number of people with more than 2 kids is not enough to make an overall conclusion on how the number of kids affects the reliability."
   ]
  },
  {
   "cell_type": "markdown",
   "metadata": {},
   "source": [
    "- Is there a relation between marital status and repaying a loan on time?"
   ]
  },
  {
   "cell_type": "code",
   "execution_count": 69,
   "metadata": {},
   "outputs": [
    {
     "name": "stdout",
     "output_type": "stream",
     "text": [
      "debt      family_status      0     1    All\n",
      "0     civil partnership   3775   388   4163\n",
      "1              divorced   1110    85   1195\n",
      "2               married  11413   931  12344\n",
      "3             unmarried   2536   274   2810\n",
      "4       widow / widower    896    63    959\n",
      "5                   All  19730  1741  21471\n"
     ]
    }
   ],
   "source": [
    "marital_status = pd.pivot_table(credit_info,index = 'family_status', columns='debt', \n",
    "                               values='family_status_id',aggfunc='count',margins=True).reset_index()\n",
    "print(marital_status)"
   ]
  },
  {
   "cell_type": "code",
   "execution_count": 70,
   "metadata": {},
   "outputs": [
    {
     "name": "stdout",
     "output_type": "stream",
     "text": [
      "debt      family_status      0     1    All  default_rate\n",
      "0     civil partnership   3775   388   4163      9.320202\n",
      "1              divorced   1110    85   1195      7.112971\n",
      "2               married  11413   931  12344      7.542126\n",
      "3             unmarried   2536   274   2810      9.750890\n",
      "4       widow / widower    896    63    959      6.569343\n",
      "5                   All  19730  1741  21471      8.108612\n"
     ]
    }
   ],
   "source": [
    "marital_status['default_rate']=(marital_status[1]/marital_status['All'])*100\n",
    "print(marital_status)"
   ]
  },
  {
   "cell_type": "markdown",
   "metadata": {},
   "source": [
    "### Conclusion"
   ]
  },
  {
   "cell_type": "markdown",
   "metadata": {},
   "source": [
    "According to the provided data widows/widowers are the most reliable people based on the marital status.\n",
    "They are followed by divorced and married people.\n",
    "The most unreliable ones are in a civil partnership or unmarried."
   ]
  },
  {
   "cell_type": "markdown",
   "metadata": {},
   "source": [
    "- Is there a relation between income level and repaying a loan on time?"
   ]
  },
  {
   "cell_type": "code",
   "execution_count": 71,
   "metadata": {},
   "outputs": [
    {
     "name": "stdout",
     "output_type": "stream",
     "text": [
      "debt            income_type      0     1    All  default_rate\n",
      "0     higher_average_income   8035   681   8716      7.813217\n",
      "1                low_income   3448   298   3746      7.955152\n",
      "2      lower_average_income   7611   724   8335      8.686263\n",
      "3        upper-class_income    636    38    674      5.637982\n",
      "4                       All  19730  1741  21471      8.108612\n"
     ]
    }
   ],
   "source": [
    "income_level = pd.pivot_table(credit_info,index = 'income_type', columns='debt', \n",
    "                               values='income_id',aggfunc='count',margins=True).reset_index()\n",
    "\n",
    "income_level['default_rate']=(income_level[1]/income_level['All'])*100\n",
    "\n",
    "print(income_level)"
   ]
  },
  {
   "cell_type": "markdown",
   "metadata": {},
   "source": [
    "### Conclusion"
   ]
  },
  {
   "cell_type": "markdown",
   "metadata": {},
   "source": [
    "According to the provided data people with upper-class income are more reliable. (income more than 600000)\n",
    "However, much fewer people from this category are taking the loan compared to others. \n",
    "The most unreliable people are the ones thaT earn slightly more than low income: income 15000-25000\n",
    "People with higher average income (25000-60000) and low income have approximately the same level of reliability, though people with lower income are rarer to take a loan."
   ]
  },
  {
   "cell_type": "markdown",
   "metadata": {},
   "source": [
    "- How do different loan purposes affect on-time repayment of the loan?"
   ]
  },
  {
   "cell_type": "code",
   "execution_count": 72,
   "metadata": {},
   "outputs": [
    {
     "name": "stdout",
     "output_type": "stream",
     "text": [
      "debt purpose_type      0     1    All  default_rate\n",
      "0             car   3905   403   4308      9.354689\n",
      "1       education   3644   370   4014      9.217738\n",
      "2         housing  10032   782  10814      7.231367\n",
      "3         wedding   2149   186   2335      7.965739\n",
      "4             All  19730  1741  21471      8.108612\n"
     ]
    }
   ],
   "source": [
    "purpose = pd.pivot_table(credit_info,index = 'purpose_type', columns='debt', \n",
    "                               values='purpose_id',aggfunc='count',margins=True).reset_index()\n",
    "\n",
    "purpose['default_rate']=(purpose[1]/purpose['All'])*100\n",
    "\n",
    "print(purpose)"
   ]
  },
  {
   "cell_type": "markdown",
   "metadata": {},
   "source": [
    "### Conclusion"
   ]
  },
  {
   "cell_type": "markdown",
   "metadata": {},
   "source": [
    "The most reliable people are the ones that take the loan for housing purposes. although as it was mentioned housing in our case is a very large category, with more information from the customer we could've decided it in smaller groups to get more accurate results.\n",
    "Another reliable group consists of the people who take the loan for their wedding.\n",
    "The most unreliable groups are the ones that have car or education as purposes."
   ]
  },
  {
   "cell_type": "markdown",
   "metadata": {},
   "source": [
    "## General conclusion"
   ]
  },
  {
   "cell_type": "markdown",
   "metadata": {},
   "source": [
    "The data was preprocessed: missing values were filled where it was possible, days employed were dropped out since they do not have an influence on our research. We got rid of the duplicates. Reassigned the data type for real values and made them integer.\n",
    "Data were categorized according to the research purposes.\n",
    "The reliability of the categories was analyzed according to each parameter of interest.\n",
    "It is recommended to gather more data within certain groups to improve the accuracy of our conclusions."
   ]
  }
 ],
 "metadata": {
  "ExecuteTimeLog": [
   {
    "duration": 166,
    "start_time": "2021-10-08T08:42:14.683Z"
   },
   {
    "duration": 808,
    "start_time": "2021-10-08T08:42:29.059Z"
   },
   {
    "duration": 52,
    "start_time": "2021-10-08T08:42:38.307Z"
   },
   {
    "duration": 76,
    "start_time": "2021-10-08T10:56:30.924Z"
   },
   {
    "duration": 62,
    "start_time": "2021-10-08T10:56:47.926Z"
   },
   {
    "duration": 534,
    "start_time": "2021-10-08T14:01:04.574Z"
   },
   {
    "duration": 707,
    "start_time": "2021-10-08T14:01:18.072Z"
   },
   {
    "duration": 361,
    "start_time": "2021-10-08T14:01:25.299Z"
   },
   {
    "duration": 6,
    "start_time": "2021-10-08T14:02:22.508Z"
   },
   {
    "duration": 105,
    "start_time": "2021-10-08T14:06:06.810Z"
   },
   {
    "duration": 6,
    "start_time": "2021-10-08T14:08:05.877Z"
   },
   {
    "duration": 9,
    "start_time": "2021-10-08T14:08:20.419Z"
   },
   {
    "duration": 315,
    "start_time": "2021-10-08T14:09:01.011Z"
   },
   {
    "duration": 11,
    "start_time": "2021-10-08T14:09:17.582Z"
   },
   {
    "duration": 9,
    "start_time": "2021-10-08T14:10:31.670Z"
   },
   {
    "duration": 7,
    "start_time": "2021-10-08T14:12:17.390Z"
   },
   {
    "duration": 11,
    "start_time": "2021-10-08T14:12:50.705Z"
   },
   {
    "duration": 24,
    "start_time": "2021-10-08T14:13:42.816Z"
   },
   {
    "duration": 14,
    "start_time": "2021-10-08T14:15:07.707Z"
   },
   {
    "duration": 15,
    "start_time": "2021-10-08T14:15:28.544Z"
   },
   {
    "duration": 9,
    "start_time": "2021-10-08T14:23:07.849Z"
   },
   {
    "duration": 16,
    "start_time": "2021-10-08T15:26:06.351Z"
   },
   {
    "duration": 20,
    "start_time": "2021-10-08T15:37:35.786Z"
   },
   {
    "duration": 319,
    "start_time": "2021-10-08T15:39:30.759Z"
   },
   {
    "duration": 21,
    "start_time": "2021-10-08T15:42:09.864Z"
   },
   {
    "duration": 25,
    "start_time": "2021-10-08T15:42:38.784Z"
   },
   {
    "duration": 19,
    "start_time": "2021-10-08T15:42:46.686Z"
   },
   {
    "duration": 14,
    "start_time": "2021-10-08T15:43:14.346Z"
   },
   {
    "duration": 14,
    "start_time": "2021-10-08T15:43:54.746Z"
   },
   {
    "duration": 14,
    "start_time": "2021-10-08T15:51:12.081Z"
   },
   {
    "duration": 311,
    "start_time": "2021-10-08T15:51:25.611Z"
   },
   {
    "duration": 12,
    "start_time": "2021-10-08T15:51:36.402Z"
   },
   {
    "duration": 14,
    "start_time": "2021-10-08T15:53:07.033Z"
   },
   {
    "duration": 27,
    "start_time": "2021-10-08T15:56:40.581Z"
   },
   {
    "duration": 13,
    "start_time": "2021-10-08T16:05:44.194Z"
   },
   {
    "duration": 15,
    "start_time": "2021-10-08T16:25:15.158Z"
   },
   {
    "duration": 34,
    "start_time": "2021-10-08T16:25:46.141Z"
   },
   {
    "duration": 31,
    "start_time": "2021-10-08T16:26:02.476Z"
   },
   {
    "duration": 41,
    "start_time": "2021-10-08T16:26:29.461Z"
   },
   {
    "duration": 350,
    "start_time": "2021-10-08T16:26:47.082Z"
   },
   {
    "duration": 339,
    "start_time": "2021-10-08T16:27:17.867Z"
   },
   {
    "duration": 50,
    "start_time": "2021-10-08T16:27:23.517Z"
   },
   {
    "duration": 26,
    "start_time": "2021-10-08T16:27:26.648Z"
   },
   {
    "duration": 68,
    "start_time": "2021-10-08T16:28:01.081Z"
   },
   {
    "duration": 34,
    "start_time": "2021-10-08T16:28:05.670Z"
   },
   {
    "duration": 53,
    "start_time": "2021-10-08T16:28:32.565Z"
   },
   {
    "duration": 31,
    "start_time": "2021-10-08T16:30:46.974Z"
   },
   {
    "duration": 68,
    "start_time": "2021-10-08T16:31:11.031Z"
   },
   {
    "duration": 23,
    "start_time": "2021-10-08T16:31:14.815Z"
   },
   {
    "duration": 51,
    "start_time": "2021-10-08T16:32:47.923Z"
   },
   {
    "duration": 23,
    "start_time": "2021-10-08T16:32:52.246Z"
   },
   {
    "duration": 10,
    "start_time": "2021-10-08T16:34:33.019Z"
   },
   {
    "duration": 15,
    "start_time": "2021-10-08T16:34:40.050Z"
   },
   {
    "duration": 52,
    "start_time": "2021-10-08T16:34:46.226Z"
   },
   {
    "duration": 25,
    "start_time": "2021-10-08T16:34:49.883Z"
   },
   {
    "duration": 98,
    "start_time": "2021-10-08T16:47:12.426Z"
   },
   {
    "duration": 23,
    "start_time": "2021-10-08T16:47:34.685Z"
   },
   {
    "duration": 18,
    "start_time": "2021-10-08T16:48:01.932Z"
   },
   {
    "duration": 18,
    "start_time": "2021-10-08T16:48:42.559Z"
   },
   {
    "duration": 21,
    "start_time": "2021-10-08T16:51:29.506Z"
   },
   {
    "duration": 57,
    "start_time": "2021-10-08T16:51:36.935Z"
   },
   {
    "duration": 20,
    "start_time": "2021-10-08T16:51:39.707Z"
   },
   {
    "duration": 20,
    "start_time": "2021-10-08T16:52:31.092Z"
   },
   {
    "duration": 54,
    "start_time": "2021-10-08T16:53:48.432Z"
   },
   {
    "duration": 345,
    "start_time": "2021-10-08T16:53:51.468Z"
   },
   {
    "duration": 351,
    "start_time": "2021-10-08T16:54:16.609Z"
   },
   {
    "duration": -53,
    "start_time": "2021-10-08T16:56:16.373Z"
   },
   {
    "duration": 8631,
    "start_time": "2021-10-08T16:56:17.310Z"
   },
   {
    "duration": 50,
    "start_time": "2021-10-08T17:27:56.843Z"
   },
   {
    "duration": 5,
    "start_time": "2021-10-08T17:27:59.749Z"
   },
   {
    "duration": 5,
    "start_time": "2021-10-08T17:28:06.384Z"
   },
   {
    "duration": 53,
    "start_time": "2021-10-08T17:28:29.275Z"
   },
   {
    "duration": 6,
    "start_time": "2021-10-08T17:28:34.221Z"
   },
   {
    "duration": 9,
    "start_time": "2021-10-08T17:29:15.993Z"
   },
   {
    "duration": 57,
    "start_time": "2021-10-08T17:34:41.744Z"
   },
   {
    "duration": 331,
    "start_time": "2021-10-08T17:34:44.531Z"
   },
   {
    "duration": 11125,
    "start_time": "2021-10-08T17:35:12.205Z"
   },
   {
    "duration": 55,
    "start_time": "2021-10-08T17:35:33.922Z"
   },
   {
    "duration": -41,
    "start_time": "2021-10-08T17:35:46.299Z"
   },
   {
    "duration": 8305,
    "start_time": "2021-10-08T17:36:07.425Z"
   },
   {
    "duration": -48,
    "start_time": "2021-10-08T17:36:27.524Z"
   },
   {
    "duration": -52,
    "start_time": "2021-10-08T17:36:27.529Z"
   },
   {
    "duration": 12,
    "start_time": "2021-10-08T17:36:34.379Z"
   },
   {
    "duration": 14,
    "start_time": "2021-10-08T17:38:09.598Z"
   },
   {
    "duration": 17,
    "start_time": "2021-10-08T17:38:28.050Z"
   },
   {
    "duration": 17,
    "start_time": "2021-10-08T17:55:58.704Z"
   },
   {
    "duration": 24,
    "start_time": "2021-10-08T17:57:09.074Z"
   },
   {
    "duration": 24,
    "start_time": "2021-10-08T17:57:29.473Z"
   },
   {
    "duration": 71,
    "start_time": "2021-10-08T18:26:55.095Z"
   },
   {
    "duration": 25,
    "start_time": "2021-10-08T18:26:58.984Z"
   },
   {
    "duration": 21,
    "start_time": "2021-10-08T18:27:58.211Z"
   },
   {
    "duration": 312,
    "start_time": "2021-10-08T18:28:32.674Z"
   },
   {
    "duration": 54,
    "start_time": "2021-10-08T18:29:11.674Z"
   },
   {
    "duration": 351,
    "start_time": "2021-10-08T18:29:15.945Z"
   },
   {
    "duration": 17,
    "start_time": "2021-10-08T18:29:23.035Z"
   },
   {
    "duration": 1281,
    "start_time": "2021-10-09T06:46:55.896Z"
   },
   {
    "duration": 815,
    "start_time": "2021-10-09T06:47:15.034Z"
   },
   {
    "duration": 16,
    "start_time": "2021-10-09T06:47:18.455Z"
   },
   {
    "duration": 6,
    "start_time": "2021-10-09T06:47:33.920Z"
   },
   {
    "duration": 8,
    "start_time": "2021-10-09T06:48:33.524Z"
   },
   {
    "duration": 4,
    "start_time": "2021-10-09T06:49:08.750Z"
   },
   {
    "duration": 4,
    "start_time": "2021-10-09T06:49:23.920Z"
   },
   {
    "duration": 4,
    "start_time": "2021-10-09T06:49:29.483Z"
   },
   {
    "duration": 7,
    "start_time": "2021-10-09T06:49:39.971Z"
   },
   {
    "duration": 15,
    "start_time": "2021-10-09T06:51:56.245Z"
   },
   {
    "duration": 7,
    "start_time": "2021-10-09T07:13:01.819Z"
   },
   {
    "duration": 9,
    "start_time": "2021-10-09T07:13:25.524Z"
   },
   {
    "duration": 356,
    "start_time": "2021-10-09T11:05:26.000Z"
   },
   {
    "duration": 670,
    "start_time": "2021-10-09T11:05:36.912Z"
   },
   {
    "duration": 11,
    "start_time": "2021-10-09T11:05:42.264Z"
   },
   {
    "duration": 6,
    "start_time": "2021-10-09T11:05:48.363Z"
   },
   {
    "duration": 17,
    "start_time": "2021-10-09T11:05:53.472Z"
   },
   {
    "duration": 11,
    "start_time": "2021-10-09T11:05:59.292Z"
   },
   {
    "duration": 364,
    "start_time": "2021-10-09T11:07:58.092Z"
   },
   {
    "duration": 49,
    "start_time": "2021-10-09T11:08:18.193Z"
   },
   {
    "duration": 11,
    "start_time": "2021-10-09T11:08:20.049Z"
   },
   {
    "duration": 5,
    "start_time": "2021-10-09T11:08:21.546Z"
   },
   {
    "duration": 22,
    "start_time": "2021-10-09T11:08:28.993Z"
   },
   {
    "duration": 12,
    "start_time": "2021-10-09T11:19:39.222Z"
   },
   {
    "duration": 13,
    "start_time": "2021-10-09T11:23:25.662Z"
   },
   {
    "duration": 13,
    "start_time": "2021-10-09T11:23:47.011Z"
   },
   {
    "duration": 6,
    "start_time": "2021-10-09T11:51:43.482Z"
   },
   {
    "duration": 7,
    "start_time": "2021-10-09T11:54:57.642Z"
   },
   {
    "duration": 13,
    "start_time": "2021-10-09T15:26:13.730Z"
   },
   {
    "duration": 13,
    "start_time": "2021-10-09T15:26:53.280Z"
   },
   {
    "duration": 10,
    "start_time": "2021-10-09T15:27:31.563Z"
   },
   {
    "duration": 12,
    "start_time": "2021-10-09T15:27:36.880Z"
   },
   {
    "duration": 14,
    "start_time": "2021-10-09T15:57:01.831Z"
   },
   {
    "duration": 17,
    "start_time": "2021-10-09T16:00:43.651Z"
   },
   {
    "duration": 290,
    "start_time": "2021-10-09T16:03:25.108Z"
   },
   {
    "duration": 11,
    "start_time": "2021-10-09T16:03:59.131Z"
   },
   {
    "duration": 12,
    "start_time": "2021-10-09T16:04:19.167Z"
   },
   {
    "duration": 16,
    "start_time": "2021-10-09T16:04:58.731Z"
   },
   {
    "duration": 15,
    "start_time": "2021-10-09T16:05:08.771Z"
   },
   {
    "duration": 19,
    "start_time": "2021-10-09T16:05:33.728Z"
   },
   {
    "duration": 7,
    "start_time": "2021-10-09T16:08:18.601Z"
   },
   {
    "duration": 348,
    "start_time": "2021-10-10T16:29:30.410Z"
   },
   {
    "duration": 709,
    "start_time": "2021-10-10T16:29:37.356Z"
   },
   {
    "duration": 11,
    "start_time": "2021-10-10T16:29:39.418Z"
   },
   {
    "duration": 6,
    "start_time": "2021-10-10T16:29:40.331Z"
   },
   {
    "duration": 18,
    "start_time": "2021-10-10T16:29:43.710Z"
   },
   {
    "duration": 9,
    "start_time": "2021-10-10T16:29:48.472Z"
   },
   {
    "duration": 14,
    "start_time": "2021-10-10T16:29:49.225Z"
   },
   {
    "duration": 11,
    "start_time": "2021-10-10T16:29:50.002Z"
   },
   {
    "duration": 325,
    "start_time": "2021-10-10T16:29:51.860Z"
   },
   {
    "duration": 8,
    "start_time": "2021-10-10T16:30:05.404Z"
   },
   {
    "duration": 7,
    "start_time": "2021-10-10T16:30:24.565Z"
   },
   {
    "duration": 11,
    "start_time": "2021-10-10T16:31:36.796Z"
   },
   {
    "duration": 1791,
    "start_time": "2021-10-10T16:50:56.821Z"
   },
   {
    "duration": 4,
    "start_time": "2021-10-10T16:52:17.188Z"
   },
   {
    "duration": 4,
    "start_time": "2021-10-10T16:57:43.061Z"
   },
   {
    "duration": 4,
    "start_time": "2021-10-10T16:59:12.233Z"
   },
   {
    "duration": 4,
    "start_time": "2021-10-10T16:59:23.810Z"
   },
   {
    "duration": 80,
    "start_time": "2021-10-10T17:03:54.174Z"
   },
   {
    "duration": 89,
    "start_time": "2021-10-10T17:04:07.348Z"
   },
   {
    "duration": 290,
    "start_time": "2021-10-10T17:04:22.389Z"
   },
   {
    "duration": 1971,
    "start_time": "2021-10-10T17:04:49.532Z"
   },
   {
    "duration": 1940,
    "start_time": "2021-10-10T17:06:11.096Z"
   },
   {
    "duration": 53,
    "start_time": "2021-10-10T17:06:27.434Z"
   },
   {
    "duration": 1945,
    "start_time": "2021-10-10T17:06:33.750Z"
   },
   {
    "duration": 1729,
    "start_time": "2021-10-10T17:06:51.270Z"
   },
   {
    "duration": 1780,
    "start_time": "2021-10-10T17:09:22.729Z"
   },
   {
    "duration": 732,
    "start_time": "2021-10-11T17:26:42.644Z"
   },
   {
    "duration": 10,
    "start_time": "2021-10-11T17:26:43.378Z"
   },
   {
    "duration": 6,
    "start_time": "2021-10-11T17:26:43.390Z"
   },
   {
    "duration": 18,
    "start_time": "2021-10-11T17:26:43.398Z"
   },
   {
    "duration": 10,
    "start_time": "2021-10-11T17:26:43.418Z"
   },
   {
    "duration": 47,
    "start_time": "2021-10-11T17:26:43.430Z"
   },
   {
    "duration": 11,
    "start_time": "2021-10-11T17:26:43.479Z"
   },
   {
    "duration": 11,
    "start_time": "2021-10-11T17:26:43.493Z"
   },
   {
    "duration": 23,
    "start_time": "2021-10-11T17:26:43.506Z"
   },
   {
    "duration": 46,
    "start_time": "2021-10-11T17:26:43.531Z"
   },
   {
    "duration": 7,
    "start_time": "2021-10-11T17:26:43.579Z"
   },
   {
    "duration": 1907,
    "start_time": "2021-10-11T17:26:43.587Z"
   },
   {
    "duration": 1731,
    "start_time": "2021-10-11T17:26:45.495Z"
   },
   {
    "duration": 6,
    "start_time": "2021-10-11T17:27:28.728Z"
   },
   {
    "duration": 7,
    "start_time": "2021-10-11T17:27:40.782Z"
   },
   {
    "duration": 7,
    "start_time": "2021-10-11T17:28:27.581Z"
   },
   {
    "duration": 8,
    "start_time": "2021-10-11T17:56:35.677Z"
   },
   {
    "duration": 8,
    "start_time": "2021-10-11T17:58:55.930Z"
   },
   {
    "duration": 8,
    "start_time": "2021-10-11T17:59:04.042Z"
   },
   {
    "duration": 460,
    "start_time": "2021-10-11T17:59:27.652Z"
   },
   {
    "duration": 310,
    "start_time": "2021-10-11T17:59:41.185Z"
   },
   {
    "duration": 9346,
    "start_time": "2021-10-11T18:00:15.074Z"
   },
   {
    "duration": 53,
    "start_time": "2021-10-11T18:00:52.968Z"
   },
   {
    "duration": 10,
    "start_time": "2021-10-11T18:00:53.917Z"
   },
   {
    "duration": 7,
    "start_time": "2021-10-11T18:00:54.491Z"
   },
   {
    "duration": 18,
    "start_time": "2021-10-11T18:00:57.393Z"
   },
   {
    "duration": 10,
    "start_time": "2021-10-11T18:00:58.646Z"
   },
   {
    "duration": 15,
    "start_time": "2021-10-11T18:00:59.339Z"
   },
   {
    "duration": 7,
    "start_time": "2021-10-11T18:01:00.772Z"
   },
   {
    "duration": 10,
    "start_time": "2021-10-11T18:01:02.021Z"
   },
   {
    "duration": 19,
    "start_time": "2021-10-11T18:01:04.977Z"
   },
   {
    "duration": 17,
    "start_time": "2021-10-11T18:01:08.065Z"
   },
   {
    "duration": 6,
    "start_time": "2021-10-11T18:01:11.624Z"
   },
   {
    "duration": 4,
    "start_time": "2021-10-11T18:01:12.763Z"
   },
   {
    "duration": 1892,
    "start_time": "2021-10-11T18:01:13.481Z"
   },
   {
    "duration": 6,
    "start_time": "2021-10-11T18:01:15.377Z"
   },
   {
    "duration": 8,
    "start_time": "2021-10-11T18:01:20.897Z"
   },
   {
    "duration": 107,
    "start_time": "2021-10-11T18:01:27.426Z"
   },
   {
    "duration": 364,
    "start_time": "2021-10-11T18:12:01.349Z"
   },
   {
    "duration": -149,
    "start_time": "2021-10-11T18:12:28.044Z"
   },
   {
    "duration": 8529,
    "start_time": "2021-10-11T18:12:48.371Z"
   },
   {
    "duration": 7918,
    "start_time": "2021-10-11T18:13:13.117Z"
   },
   {
    "duration": 7919,
    "start_time": "2021-10-11T18:13:33.265Z"
   },
   {
    "duration": 8291,
    "start_time": "2021-10-11T18:14:19.162Z"
   },
   {
    "duration": 301,
    "start_time": "2021-10-11T18:14:58.373Z"
   },
   {
    "duration": 306,
    "start_time": "2021-10-11T18:15:35.603Z"
   },
   {
    "duration": 8,
    "start_time": "2021-10-11T18:16:22.154Z"
   },
   {
    "duration": 56,
    "start_time": "2021-10-11T18:17:37.954Z"
   },
   {
    "duration": 11,
    "start_time": "2021-10-11T18:41:12.501Z"
   },
   {
    "duration": 11,
    "start_time": "2021-10-11T18:42:14.690Z"
   },
   {
    "duration": 9,
    "start_time": "2021-10-11T18:46:11.883Z"
   },
   {
    "duration": 9,
    "start_time": "2021-10-11T18:46:23.745Z"
   },
   {
    "duration": 10,
    "start_time": "2021-10-11T18:54:38.361Z"
   },
   {
    "duration": 1726,
    "start_time": "2021-10-11T18:57:03.195Z"
   },
   {
    "duration": 13,
    "start_time": "2021-10-11T18:57:28.234Z"
   },
   {
    "duration": 17,
    "start_time": "2021-10-11T18:58:44.880Z"
   },
   {
    "duration": 297,
    "start_time": "2021-10-11T19:05:27.503Z"
   },
   {
    "duration": 300,
    "start_time": "2021-10-11T19:06:02.852Z"
   },
   {
    "duration": 41,
    "start_time": "2021-10-11T19:06:52.413Z"
   },
   {
    "duration": 36,
    "start_time": "2021-10-11T19:07:52.873Z"
   },
   {
    "duration": 7,
    "start_time": "2021-10-11T19:12:06.730Z"
   },
   {
    "duration": 319,
    "start_time": "2021-10-11T19:15:08.053Z"
   },
   {
    "duration": 64,
    "start_time": "2021-10-11T19:15:50.410Z"
   },
   {
    "duration": 331,
    "start_time": "2021-10-11T19:16:36.309Z"
   },
   {
    "duration": 19,
    "start_time": "2021-10-11T19:19:42.701Z"
   },
   {
    "duration": 40,
    "start_time": "2021-10-11T19:20:13.163Z"
   },
   {
    "duration": 351,
    "start_time": "2021-10-11T19:22:38.502Z"
   },
   {
    "duration": 319,
    "start_time": "2021-10-11T19:23:10.498Z"
   },
   {
    "duration": 6,
    "start_time": "2021-10-11T19:26:13.720Z"
   },
   {
    "duration": 19,
    "start_time": "2021-10-11T19:31:07.410Z"
   },
   {
    "duration": 73,
    "start_time": "2021-10-11T19:31:28.394Z"
   },
   {
    "duration": 69,
    "start_time": "2021-10-11T19:31:40.592Z"
   },
   {
    "duration": 302,
    "start_time": "2021-10-11T19:33:01.511Z"
   },
   {
    "duration": 104,
    "start_time": "2021-10-11T19:33:15.391Z"
   },
   {
    "duration": 4,
    "start_time": "2021-10-11T19:33:20.332Z"
   },
   {
    "duration": 46,
    "start_time": "2021-10-11T19:34:49.171Z"
   },
   {
    "duration": 46,
    "start_time": "2021-10-11T19:36:03.837Z"
   },
   {
    "duration": 407,
    "start_time": "2021-10-11T19:36:14.425Z"
   },
   {
    "duration": 47,
    "start_time": "2021-10-11T19:36:27.642Z"
   },
   {
    "duration": 14,
    "start_time": "2021-10-11T19:42:06.910Z"
   },
   {
    "duration": 41,
    "start_time": "2021-10-11T19:43:20.413Z"
   },
   {
    "duration": 72,
    "start_time": "2021-10-12T06:02:51.637Z"
   },
   {
    "duration": 246,
    "start_time": "2021-10-12T06:02:58.527Z"
   },
   {
    "duration": 576,
    "start_time": "2021-10-12T06:03:07.775Z"
   },
   {
    "duration": 48,
    "start_time": "2021-10-12T06:03:23.529Z"
   },
   {
    "duration": 9,
    "start_time": "2021-10-12T06:03:23.579Z"
   },
   {
    "duration": 5,
    "start_time": "2021-10-12T06:03:23.590Z"
   },
   {
    "duration": 19,
    "start_time": "2021-10-12T06:03:23.597Z"
   },
   {
    "duration": 10,
    "start_time": "2021-10-12T06:03:23.644Z"
   },
   {
    "duration": 15,
    "start_time": "2021-10-12T06:03:23.656Z"
   },
   {
    "duration": 11,
    "start_time": "2021-10-12T06:03:23.672Z"
   },
   {
    "duration": 11,
    "start_time": "2021-10-12T06:03:23.686Z"
   },
   {
    "duration": 49,
    "start_time": "2021-10-12T06:03:23.699Z"
   },
   {
    "duration": 17,
    "start_time": "2021-10-12T06:03:23.750Z"
   },
   {
    "duration": 12,
    "start_time": "2021-10-12T06:03:23.769Z"
   },
   {
    "duration": 6,
    "start_time": "2021-10-12T06:03:23.783Z"
   },
   {
    "duration": 1895,
    "start_time": "2021-10-12T06:03:23.790Z"
   },
   {
    "duration": 1604,
    "start_time": "2021-10-12T06:03:25.687Z"
   },
   {
    "duration": 6,
    "start_time": "2021-10-12T06:03:27.293Z"
   },
   {
    "duration": 18,
    "start_time": "2021-10-12T06:03:27.301Z"
   },
   {
    "duration": 6,
    "start_time": "2021-10-12T06:03:27.321Z"
   },
   {
    "duration": 25,
    "start_time": "2021-10-12T06:03:27.329Z"
   },
   {
    "duration": 16,
    "start_time": "2021-10-12T06:03:27.355Z"
   },
   {
    "duration": 17,
    "start_time": "2021-10-12T06:03:27.373Z"
   },
   {
    "duration": 8,
    "start_time": "2021-10-12T06:03:27.392Z"
   },
   {
    "duration": 27,
    "start_time": "2021-10-12T06:03:27.402Z"
   },
   {
    "duration": 70,
    "start_time": "2021-10-12T06:03:27.432Z"
   },
   {
    "duration": 37,
    "start_time": "2021-10-12T06:03:27.504Z"
   },
   {
    "duration": 6,
    "start_time": "2021-10-12T06:03:27.542Z"
   },
   {
    "duration": 49,
    "start_time": "2021-10-12T06:03:27.549Z"
   },
   {
    "duration": 45,
    "start_time": "2021-10-12T06:03:27.599Z"
   },
   {
    "duration": 51,
    "start_time": "2021-10-12T06:04:05.703Z"
   },
   {
    "duration": 9,
    "start_time": "2021-10-12T06:04:05.756Z"
   },
   {
    "duration": 5,
    "start_time": "2021-10-12T06:04:05.767Z"
   },
   {
    "duration": 20,
    "start_time": "2021-10-12T06:04:05.773Z"
   },
   {
    "duration": 8,
    "start_time": "2021-10-12T06:04:05.795Z"
   },
   {
    "duration": 15,
    "start_time": "2021-10-12T06:04:05.805Z"
   },
   {
    "duration": 6,
    "start_time": "2021-10-12T06:04:05.845Z"
   },
   {
    "duration": 12,
    "start_time": "2021-10-12T06:04:05.853Z"
   },
   {
    "duration": 17,
    "start_time": "2021-10-12T06:04:05.867Z"
   },
   {
    "duration": 17,
    "start_time": "2021-10-12T06:04:05.885Z"
   },
   {
    "duration": 24,
    "start_time": "2021-10-12T06:04:37.446Z"
   },
   {
    "duration": 30,
    "start_time": "2021-10-12T06:06:27.068Z"
   },
   {
    "duration": 76,
    "start_time": "2021-10-12T06:23:41.026Z"
   },
   {
    "duration": 18,
    "start_time": "2021-10-12T06:23:46.429Z"
   },
   {
    "duration": 41,
    "start_time": "2021-10-12T06:48:16.855Z"
   },
   {
    "duration": 52,
    "start_time": "2021-10-12T06:48:40.896Z"
   },
   {
    "duration": 9,
    "start_time": "2021-10-12T06:48:40.950Z"
   },
   {
    "duration": 5,
    "start_time": "2021-10-12T06:48:40.961Z"
   },
   {
    "duration": 17,
    "start_time": "2021-10-12T06:48:40.968Z"
   },
   {
    "duration": 8,
    "start_time": "2021-10-12T06:48:40.987Z"
   },
   {
    "duration": 13,
    "start_time": "2021-10-12T06:48:40.997Z"
   },
   {
    "duration": 36,
    "start_time": "2021-10-12T06:48:41.012Z"
   },
   {
    "duration": 13,
    "start_time": "2021-10-12T06:48:41.051Z"
   },
   {
    "duration": 17,
    "start_time": "2021-10-12T06:48:41.066Z"
   },
   {
    "duration": 16,
    "start_time": "2021-10-12T06:48:41.085Z"
   },
   {
    "duration": 50,
    "start_time": "2021-10-12T06:48:41.103Z"
   },
   {
    "duration": 6,
    "start_time": "2021-10-12T06:48:41.155Z"
   },
   {
    "duration": 8,
    "start_time": "2021-10-12T06:48:41.163Z"
   },
   {
    "duration": 1621,
    "start_time": "2021-10-12T06:48:41.172Z"
   },
   {
    "duration": 6,
    "start_time": "2021-10-12T06:48:42.795Z"
   },
   {
    "duration": 19,
    "start_time": "2021-10-12T06:48:42.802Z"
   },
   {
    "duration": 9,
    "start_time": "2021-10-12T06:48:42.823Z"
   },
   {
    "duration": 8,
    "start_time": "2021-10-12T06:48:42.845Z"
   },
   {
    "duration": 17,
    "start_time": "2021-10-12T06:48:42.855Z"
   },
   {
    "duration": 21,
    "start_time": "2021-10-12T06:48:42.873Z"
   },
   {
    "duration": 4,
    "start_time": "2021-10-12T06:48:42.896Z"
   },
   {
    "duration": 14,
    "start_time": "2021-10-12T06:48:42.901Z"
   },
   {
    "duration": 68,
    "start_time": "2021-10-12T06:48:42.918Z"
   },
   {
    "duration": 35,
    "start_time": "2021-10-12T06:48:42.988Z"
   },
   {
    "duration": 23,
    "start_time": "2021-10-12T06:48:43.024Z"
   },
   {
    "duration": 41,
    "start_time": "2021-10-12T06:48:43.048Z"
   },
   {
    "duration": 34,
    "start_time": "2021-10-12T06:48:43.090Z"
   },
   {
    "duration": 15,
    "start_time": "2021-10-12T07:34:55.525Z"
   },
   {
    "duration": 36,
    "start_time": "2021-10-12T07:35:04.652Z"
   },
   {
    "duration": 18,
    "start_time": "2021-10-12T07:39:55.952Z"
   },
   {
    "duration": 35,
    "start_time": "2021-10-12T07:40:11.448Z"
   },
   {
    "duration": 11,
    "start_time": "2021-10-12T07:50:28.622Z"
   },
   {
    "duration": 17,
    "start_time": "2021-10-12T07:54:58.979Z"
   },
   {
    "duration": 36,
    "start_time": "2021-10-12T07:55:09.075Z"
   },
   {
    "duration": 17,
    "start_time": "2021-10-12T07:56:40.458Z"
   },
   {
    "duration": 18,
    "start_time": "2021-10-12T07:56:46.241Z"
   },
   {
    "duration": 38,
    "start_time": "2021-10-12T07:57:00.568Z"
   },
   {
    "duration": 16,
    "start_time": "2021-10-12T07:58:12.949Z"
   },
   {
    "duration": 18,
    "start_time": "2021-10-12T07:58:14.191Z"
   },
   {
    "duration": 17,
    "start_time": "2021-10-12T07:58:33.384Z"
   },
   {
    "duration": 37,
    "start_time": "2021-10-12T07:58:40.895Z"
   },
   {
    "duration": 18,
    "start_time": "2021-10-12T08:00:00.038Z"
   },
   {
    "duration": 17,
    "start_time": "2021-10-12T08:00:00.750Z"
   },
   {
    "duration": 38,
    "start_time": "2021-10-12T08:00:05.398Z"
   },
   {
    "duration": 51,
    "start_time": "2021-10-12T08:39:01.053Z"
   },
   {
    "duration": 9,
    "start_time": "2021-10-12T08:39:01.106Z"
   },
   {
    "duration": 16,
    "start_time": "2021-10-12T08:39:01.117Z"
   },
   {
    "duration": 34,
    "start_time": "2021-10-12T08:39:01.135Z"
   },
   {
    "duration": 20,
    "start_time": "2021-10-12T08:39:01.171Z"
   },
   {
    "duration": 27,
    "start_time": "2021-10-12T08:39:01.193Z"
   },
   {
    "duration": 38,
    "start_time": "2021-10-12T08:39:01.222Z"
   },
   {
    "duration": 17,
    "start_time": "2021-10-12T08:39:01.262Z"
   },
   {
    "duration": 60,
    "start_time": "2021-10-12T08:39:01.282Z"
   },
   {
    "duration": 16,
    "start_time": "2021-10-12T08:39:01.343Z"
   },
   {
    "duration": 33,
    "start_time": "2021-10-12T08:39:01.361Z"
   },
   {
    "duration": 6,
    "start_time": "2021-10-12T08:39:01.396Z"
   },
   {
    "duration": 19,
    "start_time": "2021-10-12T08:39:01.404Z"
   },
   {
    "duration": 1912,
    "start_time": "2021-10-12T08:39:01.425Z"
   },
   {
    "duration": 10,
    "start_time": "2021-10-12T08:39:03.339Z"
   },
   {
    "duration": 15,
    "start_time": "2021-10-12T08:39:03.351Z"
   },
   {
    "duration": 8,
    "start_time": "2021-10-12T08:39:03.368Z"
   },
   {
    "duration": 9,
    "start_time": "2021-10-12T08:39:03.378Z"
   },
   {
    "duration": 17,
    "start_time": "2021-10-12T08:39:03.389Z"
   },
   {
    "duration": 46,
    "start_time": "2021-10-12T08:39:03.408Z"
   },
   {
    "duration": 5,
    "start_time": "2021-10-12T08:39:03.456Z"
   },
   {
    "duration": 15,
    "start_time": "2021-10-12T08:39:03.462Z"
   },
   {
    "duration": 78,
    "start_time": "2021-10-12T08:39:03.480Z"
   },
   {
    "duration": 34,
    "start_time": "2021-10-12T08:39:03.560Z"
   },
   {
    "duration": 5,
    "start_time": "2021-10-12T08:39:03.596Z"
   },
   {
    "duration": 60,
    "start_time": "2021-10-12T08:39:03.603Z"
   },
   {
    "duration": 37,
    "start_time": "2021-10-12T08:39:03.665Z"
   },
   {
    "duration": 852,
    "start_time": "2021-10-12T20:17:43.502Z"
   },
   {
    "duration": 14,
    "start_time": "2021-10-12T20:17:44.356Z"
   },
   {
    "duration": 32,
    "start_time": "2021-10-12T20:17:44.373Z"
   },
   {
    "duration": 53,
    "start_time": "2021-10-12T20:17:44.408Z"
   },
   {
    "duration": 14,
    "start_time": "2021-10-12T20:17:44.463Z"
   },
   {
    "duration": 32,
    "start_time": "2021-10-12T20:17:44.479Z"
   },
   {
    "duration": 44,
    "start_time": "2021-10-12T20:17:44.514Z"
   },
   {
    "duration": 28,
    "start_time": "2021-10-12T20:17:44.562Z"
   },
   {
    "duration": 63,
    "start_time": "2021-10-12T20:17:44.593Z"
   },
   {
    "duration": 24,
    "start_time": "2021-10-12T20:17:44.658Z"
   },
   {
    "duration": 78,
    "start_time": "2021-10-12T20:17:44.684Z"
   },
   {
    "duration": 9,
    "start_time": "2021-10-12T20:17:44.765Z"
   },
   {
    "duration": 2925,
    "start_time": "2021-10-12T20:17:44.776Z"
   },
   {
    "duration": 3327,
    "start_time": "2021-10-12T20:17:47.704Z"
   },
   {
    "duration": 10,
    "start_time": "2021-10-12T20:17:51.034Z"
   },
   {
    "duration": 23,
    "start_time": "2021-10-12T20:17:51.047Z"
   },
   {
    "duration": 10,
    "start_time": "2021-10-12T20:17:51.072Z"
   },
   {
    "duration": 57,
    "start_time": "2021-10-12T20:17:51.084Z"
   },
   {
    "duration": 26,
    "start_time": "2021-10-12T20:17:51.144Z"
   },
   {
    "duration": 63,
    "start_time": "2021-10-12T20:17:51.173Z"
   },
   {
    "duration": 9,
    "start_time": "2021-10-12T20:17:51.239Z"
   },
   {
    "duration": 21,
    "start_time": "2021-10-12T20:17:51.251Z"
   },
   {
    "duration": 119,
    "start_time": "2021-10-12T20:17:51.277Z"
   },
   {
    "duration": 71,
    "start_time": "2021-10-12T20:17:51.398Z"
   },
   {
    "duration": 8,
    "start_time": "2021-10-12T20:17:51.472Z"
   },
   {
    "duration": 85,
    "start_time": "2021-10-12T20:17:51.482Z"
   },
   {
    "duration": 78,
    "start_time": "2021-10-12T20:17:51.570Z"
   },
   {
    "duration": 1513,
    "start_time": "2021-10-13T06:21:44.785Z"
   },
   {
    "duration": 64,
    "start_time": "2021-10-13T06:21:46.301Z"
   },
   {
    "duration": 16,
    "start_time": "2021-10-13T06:21:46.369Z"
   },
   {
    "duration": 9,
    "start_time": "2021-10-13T06:21:46.388Z"
   },
   {
    "duration": 67,
    "start_time": "2021-10-13T06:21:46.400Z"
   },
   {
    "duration": 14,
    "start_time": "2021-10-13T06:21:46.469Z"
   },
   {
    "duration": 20,
    "start_time": "2021-10-13T06:21:46.486Z"
   },
   {
    "duration": 51,
    "start_time": "2021-10-13T06:21:46.510Z"
   },
   {
    "duration": 15,
    "start_time": "2021-10-13T06:21:46.564Z"
   },
   {
    "duration": 480,
    "start_time": "2021-10-13T06:21:46.581Z"
   },
   {
    "duration": -1078,
    "start_time": "2021-10-13T06:21:48.142Z"
   },
   {
    "duration": -1077,
    "start_time": "2021-10-13T06:21:48.143Z"
   },
   {
    "duration": -1175,
    "start_time": "2021-10-13T06:21:48.242Z"
   },
   {
    "duration": -1178,
    "start_time": "2021-10-13T06:21:48.246Z"
   },
   {
    "duration": -1179,
    "start_time": "2021-10-13T06:21:48.248Z"
   },
   {
    "duration": -1178,
    "start_time": "2021-10-13T06:21:48.249Z"
   },
   {
    "duration": -1179,
    "start_time": "2021-10-13T06:21:48.251Z"
   },
   {
    "duration": -1178,
    "start_time": "2021-10-13T06:21:48.252Z"
   },
   {
    "duration": -1179,
    "start_time": "2021-10-13T06:21:48.254Z"
   },
   {
    "duration": -1179,
    "start_time": "2021-10-13T06:21:48.255Z"
   },
   {
    "duration": -1178,
    "start_time": "2021-10-13T06:21:48.256Z"
   },
   {
    "duration": -1179,
    "start_time": "2021-10-13T06:21:48.258Z"
   },
   {
    "duration": -1179,
    "start_time": "2021-10-13T06:21:48.259Z"
   },
   {
    "duration": -1179,
    "start_time": "2021-10-13T06:21:48.261Z"
   },
   {
    "duration": -1180,
    "start_time": "2021-10-13T06:21:48.263Z"
   },
   {
    "duration": -1182,
    "start_time": "2021-10-13T06:21:48.266Z"
   },
   {
    "duration": -1182,
    "start_time": "2021-10-13T06:21:48.268Z"
   },
   {
    "duration": -1182,
    "start_time": "2021-10-13T06:21:48.269Z"
   },
   {
    "duration": -1183,
    "start_time": "2021-10-13T06:21:48.271Z"
   },
   {
    "duration": 339,
    "start_time": "2021-10-13T06:24:07.284Z"
   },
   {
    "duration": 4,
    "start_time": "2021-10-13T06:24:20.373Z"
   },
   {
    "duration": 65,
    "start_time": "2021-10-13T06:24:21.221Z"
   },
   {
    "duration": 15,
    "start_time": "2021-10-13T06:25:21.052Z"
   },
   {
    "duration": 7,
    "start_time": "2021-10-13T06:25:28.740Z"
   },
   {
    "duration": 29,
    "start_time": "2021-10-13T06:25:36.285Z"
   },
   {
    "duration": 29,
    "start_time": "2021-10-13T06:26:12.998Z"
   },
   {
    "duration": 32,
    "start_time": "2021-10-13T06:26:25.379Z"
   },
   {
    "duration": 14,
    "start_time": "2021-10-13T06:27:41.826Z"
   },
   {
    "duration": 21,
    "start_time": "2021-10-13T06:27:45.515Z"
   },
   {
    "duration": 9,
    "start_time": "2021-10-13T06:27:47.314Z"
   },
   {
    "duration": 14,
    "start_time": "2021-10-13T06:27:49.194Z"
   },
   {
    "duration": 28,
    "start_time": "2021-10-13T06:27:52.272Z"
   },
   {
    "duration": 26,
    "start_time": "2021-10-13T06:28:03.762Z"
   },
   {
    "duration": 42,
    "start_time": "2021-10-13T06:28:08.825Z"
   },
   {
    "duration": 34,
    "start_time": "2021-10-13T06:28:14.771Z"
   },
   {
    "duration": 36,
    "start_time": "2021-10-13T06:28:43.529Z"
   },
   {
    "duration": 9,
    "start_time": "2021-10-13T06:29:05.594Z"
   },
   {
    "duration": 2028,
    "start_time": "2021-10-13T06:29:07.816Z"
   },
   {
    "duration": 3006,
    "start_time": "2021-10-13T06:29:12.674Z"
   },
   {
    "duration": 9,
    "start_time": "2021-10-13T06:29:19.240Z"
   },
   {
    "duration": 18,
    "start_time": "2021-10-13T06:29:20.832Z"
   },
   {
    "duration": 10,
    "start_time": "2021-10-13T06:29:25.696Z"
   },
   {
    "duration": 17,
    "start_time": "2021-10-13T06:29:27.697Z"
   },
   {
    "duration": 27,
    "start_time": "2021-10-13T06:29:35.232Z"
   },
   {
    "duration": 27,
    "start_time": "2021-10-13T06:29:37.755Z"
   },
   {
    "duration": 6,
    "start_time": "2021-10-13T06:29:40.664Z"
   },
   {
    "duration": 18,
    "start_time": "2021-10-13T06:29:42.409Z"
   },
   {
    "duration": 119,
    "start_time": "2021-10-13T06:29:48.552Z"
   },
   {
    "duration": 55,
    "start_time": "2021-10-13T06:29:52.347Z"
   },
   {
    "duration": 9,
    "start_time": "2021-10-13T06:29:52.579Z"
   },
   {
    "duration": 57,
    "start_time": "2021-10-13T06:29:55.719Z"
   },
   {
    "duration": 62,
    "start_time": "2021-10-13T06:29:58.464Z"
   },
   {
    "duration": 3,
    "start_time": "2021-10-13T07:11:08.278Z"
   },
   {
    "duration": 64,
    "start_time": "2021-10-13T07:11:08.287Z"
   },
   {
    "duration": 18,
    "start_time": "2021-10-13T07:11:08.354Z"
   },
   {
    "duration": 8,
    "start_time": "2021-10-13T07:11:08.374Z"
   },
   {
    "duration": 27,
    "start_time": "2021-10-13T07:11:08.385Z"
   },
   {
    "duration": 51,
    "start_time": "2021-10-13T07:11:08.415Z"
   },
   {
    "duration": 19,
    "start_time": "2021-10-13T07:11:08.469Z"
   },
   {
    "duration": 9,
    "start_time": "2021-10-13T07:11:08.490Z"
   },
   {
    "duration": 14,
    "start_time": "2021-10-13T07:11:08.504Z"
   },
   {
    "duration": 63,
    "start_time": "2021-10-13T07:11:08.521Z"
   },
   {
    "duration": 25,
    "start_time": "2021-10-13T07:11:08.586Z"
   },
   {
    "duration": 67,
    "start_time": "2021-10-13T07:11:08.613Z"
   },
   {
    "duration": 30,
    "start_time": "2021-10-13T07:11:08.683Z"
   },
   {
    "duration": 9,
    "start_time": "2021-10-13T07:11:08.716Z"
   },
   {
    "duration": 35,
    "start_time": "2021-10-13T07:11:08.727Z"
   },
   {
    "duration": 3097,
    "start_time": "2021-10-13T07:11:08.765Z"
   },
   {
    "duration": 8,
    "start_time": "2021-10-13T07:11:11.864Z"
   },
   {
    "duration": 29,
    "start_time": "2021-10-13T07:11:11.875Z"
   },
   {
    "duration": 14,
    "start_time": "2021-10-13T07:11:11.906Z"
   },
   {
    "duration": 43,
    "start_time": "2021-10-13T07:11:11.922Z"
   },
   {
    "duration": 27,
    "start_time": "2021-10-13T07:11:11.967Z"
   },
   {
    "duration": 30,
    "start_time": "2021-10-13T07:11:11.996Z"
   },
   {
    "duration": 34,
    "start_time": "2021-10-13T07:11:12.028Z"
   },
   {
    "duration": 16,
    "start_time": "2021-10-13T07:11:12.067Z"
   },
   {
    "duration": 100,
    "start_time": "2021-10-13T07:11:12.086Z"
   },
   {
    "duration": 79,
    "start_time": "2021-10-13T07:11:12.189Z"
   },
   {
    "duration": 8,
    "start_time": "2021-10-13T07:11:12.271Z"
   },
   {
    "duration": 79,
    "start_time": "2021-10-13T07:11:12.282Z"
   },
   {
    "duration": 58,
    "start_time": "2021-10-13T07:11:12.364Z"
   }
  ],
  "kernelspec": {
   "display_name": "Python 3 (ipykernel)",
   "language": "python",
   "name": "python3"
  },
  "language_info": {
   "codemirror_mode": {
    "name": "ipython",
    "version": 3
   },
   "file_extension": ".py",
   "mimetype": "text/x-python",
   "name": "python",
   "nbconvert_exporter": "python",
   "pygments_lexer": "ipython3",
   "version": "3.9.12"
  },
  "toc": {
   "base_numbering": 1,
   "nav_menu": {
    "height": "269px",
    "width": "304px"
   },
   "number_sections": true,
   "sideBar": true,
   "skip_h1_title": true,
   "title_cell": "Table of Contents",
   "title_sidebar": "Contents",
   "toc_cell": false,
   "toc_position": {},
   "toc_section_display": true,
   "toc_window_display": true
  }
 },
 "nbformat": 4,
 "nbformat_minor": 2
}
